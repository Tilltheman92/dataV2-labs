{
 "cells": [
  {
   "cell_type": "markdown",
   "metadata": {},
   "source": [
    "# Inferential statistics\n",
    "## Part II - Exploratory Data Analysis\n",
    "\n",
    "Before starting the actual analysis it's a good idea to explore the data that we will be using, to give yourself a first idea of the questions you will be able to answer with your data, the bias you could have, other data you could need, etc.\n",
    "\n",
    "### Libraries\n",
    "In addition to pandas we will also import matplolib and seaborn so that we will able to plot our data to better understand it."
   ]
  },
  {
   "cell_type": "code",
   "execution_count": 1,
   "metadata": {},
   "outputs": [],
   "source": [
    "import pandas as pd\n",
    "import matplotlib.pyplot as plt\n",
    "import seaborn as sns\n",
    "pd.set_option('max_columns', 100)"
   ]
  },
  {
   "cell_type": "markdown",
   "metadata": {},
   "source": [
    "### Explore the dataset\n",
    "\n",
    "Let's load the cleaned dataset first. Import it with the name `wnba` and show the head."
   ]
  },
  {
   "cell_type": "code",
   "execution_count": 3,
   "metadata": {},
   "outputs": [],
   "source": [
    "#your code here\n",
    "wnba=pd.read_csv(\"../data/wnba_clean.csv\")"
   ]
  },
  {
   "cell_type": "markdown",
   "metadata": {},
   "source": [
    "**Use describe() to take an initial look at the data.**"
   ]
  },
  {
   "cell_type": "code",
   "execution_count": 4,
   "metadata": {},
   "outputs": [
    {
     "data": {
      "text/html": [
       "<div>\n",
       "<style scoped>\n",
       "    .dataframe tbody tr th:only-of-type {\n",
       "        vertical-align: middle;\n",
       "    }\n",
       "\n",
       "    .dataframe tbody tr th {\n",
       "        vertical-align: top;\n",
       "    }\n",
       "\n",
       "    .dataframe thead th {\n",
       "        text-align: right;\n",
       "    }\n",
       "</style>\n",
       "<table border=\"1\" class=\"dataframe\">\n",
       "  <thead>\n",
       "    <tr style=\"text-align: right;\">\n",
       "      <th></th>\n",
       "      <th>Height</th>\n",
       "      <th>Weight</th>\n",
       "      <th>BMI</th>\n",
       "      <th>Age</th>\n",
       "      <th>Games Played</th>\n",
       "      <th>MIN</th>\n",
       "      <th>FGM</th>\n",
       "      <th>FGA</th>\n",
       "      <th>FG%</th>\n",
       "      <th>3PM</th>\n",
       "      <th>3PA</th>\n",
       "      <th>3P%</th>\n",
       "      <th>FTM</th>\n",
       "      <th>FTA</th>\n",
       "      <th>FT%</th>\n",
       "      <th>OREB</th>\n",
       "      <th>DREB</th>\n",
       "      <th>REB</th>\n",
       "      <th>AST</th>\n",
       "      <th>STL</th>\n",
       "      <th>BLK</th>\n",
       "      <th>TO</th>\n",
       "      <th>PTS</th>\n",
       "      <th>DD2</th>\n",
       "      <th>TD3</th>\n",
       "    </tr>\n",
       "  </thead>\n",
       "  <tbody>\n",
       "    <tr>\n",
       "      <th>count</th>\n",
       "      <td>142.000000</td>\n",
       "      <td>142.000000</td>\n",
       "      <td>142.000000</td>\n",
       "      <td>142.000000</td>\n",
       "      <td>142.000000</td>\n",
       "      <td>142.000000</td>\n",
       "      <td>142.000000</td>\n",
       "      <td>142.000000</td>\n",
       "      <td>142.000000</td>\n",
       "      <td>142.000000</td>\n",
       "      <td>142.000000</td>\n",
       "      <td>142.000000</td>\n",
       "      <td>142.000000</td>\n",
       "      <td>142.000000</td>\n",
       "      <td>142.000000</td>\n",
       "      <td>142.000000</td>\n",
       "      <td>142.000000</td>\n",
       "      <td>142.000000</td>\n",
       "      <td>142.000000</td>\n",
       "      <td>142.000000</td>\n",
       "      <td>142.000000</td>\n",
       "      <td>142.000000</td>\n",
       "      <td>142.000000</td>\n",
       "      <td>142.000000</td>\n",
       "      <td>142.000000</td>\n",
       "    </tr>\n",
       "    <tr>\n",
       "      <th>mean</th>\n",
       "      <td>184.612676</td>\n",
       "      <td>78.978873</td>\n",
       "      <td>23.091214</td>\n",
       "      <td>27.112676</td>\n",
       "      <td>24.429577</td>\n",
       "      <td>500.105634</td>\n",
       "      <td>74.401408</td>\n",
       "      <td>168.704225</td>\n",
       "      <td>43.102817</td>\n",
       "      <td>14.830986</td>\n",
       "      <td>43.697183</td>\n",
       "      <td>24.978169</td>\n",
       "      <td>39.535211</td>\n",
       "      <td>49.422535</td>\n",
       "      <td>75.828873</td>\n",
       "      <td>22.063380</td>\n",
       "      <td>61.591549</td>\n",
       "      <td>83.654930</td>\n",
       "      <td>44.514085</td>\n",
       "      <td>17.725352</td>\n",
       "      <td>9.781690</td>\n",
       "      <td>32.288732</td>\n",
       "      <td>203.169014</td>\n",
       "      <td>1.140845</td>\n",
       "      <td>0.007042</td>\n",
       "    </tr>\n",
       "    <tr>\n",
       "      <th>std</th>\n",
       "      <td>8.698128</td>\n",
       "      <td>10.996110</td>\n",
       "      <td>2.073691</td>\n",
       "      <td>3.667180</td>\n",
       "      <td>7.075477</td>\n",
       "      <td>289.373393</td>\n",
       "      <td>55.980754</td>\n",
       "      <td>117.165809</td>\n",
       "      <td>9.855199</td>\n",
       "      <td>17.372829</td>\n",
       "      <td>46.155302</td>\n",
       "      <td>18.459075</td>\n",
       "      <td>36.743053</td>\n",
       "      <td>44.244697</td>\n",
       "      <td>18.536151</td>\n",
       "      <td>21.519648</td>\n",
       "      <td>49.669854</td>\n",
       "      <td>68.200585</td>\n",
       "      <td>41.490790</td>\n",
       "      <td>13.413312</td>\n",
       "      <td>12.537669</td>\n",
       "      <td>21.447141</td>\n",
       "      <td>153.032559</td>\n",
       "      <td>2.909002</td>\n",
       "      <td>0.083918</td>\n",
       "    </tr>\n",
       "    <tr>\n",
       "      <th>min</th>\n",
       "      <td>165.000000</td>\n",
       "      <td>55.000000</td>\n",
       "      <td>18.390675</td>\n",
       "      <td>21.000000</td>\n",
       "      <td>2.000000</td>\n",
       "      <td>12.000000</td>\n",
       "      <td>1.000000</td>\n",
       "      <td>3.000000</td>\n",
       "      <td>16.700000</td>\n",
       "      <td>0.000000</td>\n",
       "      <td>0.000000</td>\n",
       "      <td>0.000000</td>\n",
       "      <td>0.000000</td>\n",
       "      <td>0.000000</td>\n",
       "      <td>0.000000</td>\n",
       "      <td>0.000000</td>\n",
       "      <td>2.000000</td>\n",
       "      <td>2.000000</td>\n",
       "      <td>0.000000</td>\n",
       "      <td>0.000000</td>\n",
       "      <td>0.000000</td>\n",
       "      <td>2.000000</td>\n",
       "      <td>2.000000</td>\n",
       "      <td>0.000000</td>\n",
       "      <td>0.000000</td>\n",
       "    </tr>\n",
       "    <tr>\n",
       "      <th>25%</th>\n",
       "      <td>175.750000</td>\n",
       "      <td>71.500000</td>\n",
       "      <td>21.785876</td>\n",
       "      <td>24.000000</td>\n",
       "      <td>22.000000</td>\n",
       "      <td>242.250000</td>\n",
       "      <td>27.000000</td>\n",
       "      <td>69.000000</td>\n",
       "      <td>37.125000</td>\n",
       "      <td>0.000000</td>\n",
       "      <td>3.000000</td>\n",
       "      <td>0.000000</td>\n",
       "      <td>13.000000</td>\n",
       "      <td>17.250000</td>\n",
       "      <td>71.575000</td>\n",
       "      <td>7.000000</td>\n",
       "      <td>26.000000</td>\n",
       "      <td>34.250000</td>\n",
       "      <td>11.250000</td>\n",
       "      <td>7.000000</td>\n",
       "      <td>2.000000</td>\n",
       "      <td>14.000000</td>\n",
       "      <td>77.250000</td>\n",
       "      <td>0.000000</td>\n",
       "      <td>0.000000</td>\n",
       "    </tr>\n",
       "    <tr>\n",
       "      <th>50%</th>\n",
       "      <td>185.000000</td>\n",
       "      <td>79.000000</td>\n",
       "      <td>22.873314</td>\n",
       "      <td>27.000000</td>\n",
       "      <td>27.500000</td>\n",
       "      <td>506.000000</td>\n",
       "      <td>69.000000</td>\n",
       "      <td>152.500000</td>\n",
       "      <td>42.050000</td>\n",
       "      <td>10.500000</td>\n",
       "      <td>32.000000</td>\n",
       "      <td>30.550000</td>\n",
       "      <td>29.000000</td>\n",
       "      <td>35.500000</td>\n",
       "      <td>80.000000</td>\n",
       "      <td>13.000000</td>\n",
       "      <td>50.000000</td>\n",
       "      <td>62.500000</td>\n",
       "      <td>34.000000</td>\n",
       "      <td>15.000000</td>\n",
       "      <td>5.000000</td>\n",
       "      <td>28.000000</td>\n",
       "      <td>181.000000</td>\n",
       "      <td>0.000000</td>\n",
       "      <td>0.000000</td>\n",
       "    </tr>\n",
       "    <tr>\n",
       "      <th>75%</th>\n",
       "      <td>191.000000</td>\n",
       "      <td>86.000000</td>\n",
       "      <td>24.180715</td>\n",
       "      <td>30.000000</td>\n",
       "      <td>29.000000</td>\n",
       "      <td>752.500000</td>\n",
       "      <td>105.000000</td>\n",
       "      <td>244.750000</td>\n",
       "      <td>48.625000</td>\n",
       "      <td>22.000000</td>\n",
       "      <td>65.500000</td>\n",
       "      <td>36.175000</td>\n",
       "      <td>53.250000</td>\n",
       "      <td>66.500000</td>\n",
       "      <td>85.925000</td>\n",
       "      <td>31.000000</td>\n",
       "      <td>84.000000</td>\n",
       "      <td>116.500000</td>\n",
       "      <td>66.750000</td>\n",
       "      <td>27.500000</td>\n",
       "      <td>12.000000</td>\n",
       "      <td>48.000000</td>\n",
       "      <td>277.750000</td>\n",
       "      <td>1.000000</td>\n",
       "      <td>0.000000</td>\n",
       "    </tr>\n",
       "    <tr>\n",
       "      <th>max</th>\n",
       "      <td>206.000000</td>\n",
       "      <td>113.000000</td>\n",
       "      <td>31.555880</td>\n",
       "      <td>36.000000</td>\n",
       "      <td>32.000000</td>\n",
       "      <td>1018.000000</td>\n",
       "      <td>227.000000</td>\n",
       "      <td>509.000000</td>\n",
       "      <td>100.000000</td>\n",
       "      <td>88.000000</td>\n",
       "      <td>225.000000</td>\n",
       "      <td>100.000000</td>\n",
       "      <td>168.000000</td>\n",
       "      <td>186.000000</td>\n",
       "      <td>100.000000</td>\n",
       "      <td>113.000000</td>\n",
       "      <td>226.000000</td>\n",
       "      <td>334.000000</td>\n",
       "      <td>206.000000</td>\n",
       "      <td>63.000000</td>\n",
       "      <td>64.000000</td>\n",
       "      <td>87.000000</td>\n",
       "      <td>584.000000</td>\n",
       "      <td>17.000000</td>\n",
       "      <td>1.000000</td>\n",
       "    </tr>\n",
       "  </tbody>\n",
       "</table>\n",
       "</div>"
      ],
      "text/plain": [
       "           Height      Weight         BMI         Age  Games Played  \\\n",
       "count  142.000000  142.000000  142.000000  142.000000    142.000000   \n",
       "mean   184.612676   78.978873   23.091214   27.112676     24.429577   \n",
       "std      8.698128   10.996110    2.073691    3.667180      7.075477   \n",
       "min    165.000000   55.000000   18.390675   21.000000      2.000000   \n",
       "25%    175.750000   71.500000   21.785876   24.000000     22.000000   \n",
       "50%    185.000000   79.000000   22.873314   27.000000     27.500000   \n",
       "75%    191.000000   86.000000   24.180715   30.000000     29.000000   \n",
       "max    206.000000  113.000000   31.555880   36.000000     32.000000   \n",
       "\n",
       "               MIN         FGM         FGA         FG%         3PM  \\\n",
       "count   142.000000  142.000000  142.000000  142.000000  142.000000   \n",
       "mean    500.105634   74.401408  168.704225   43.102817   14.830986   \n",
       "std     289.373393   55.980754  117.165809    9.855199   17.372829   \n",
       "min      12.000000    1.000000    3.000000   16.700000    0.000000   \n",
       "25%     242.250000   27.000000   69.000000   37.125000    0.000000   \n",
       "50%     506.000000   69.000000  152.500000   42.050000   10.500000   \n",
       "75%     752.500000  105.000000  244.750000   48.625000   22.000000   \n",
       "max    1018.000000  227.000000  509.000000  100.000000   88.000000   \n",
       "\n",
       "              3PA         3P%         FTM         FTA         FT%        OREB  \\\n",
       "count  142.000000  142.000000  142.000000  142.000000  142.000000  142.000000   \n",
       "mean    43.697183   24.978169   39.535211   49.422535   75.828873   22.063380   \n",
       "std     46.155302   18.459075   36.743053   44.244697   18.536151   21.519648   \n",
       "min      0.000000    0.000000    0.000000    0.000000    0.000000    0.000000   \n",
       "25%      3.000000    0.000000   13.000000   17.250000   71.575000    7.000000   \n",
       "50%     32.000000   30.550000   29.000000   35.500000   80.000000   13.000000   \n",
       "75%     65.500000   36.175000   53.250000   66.500000   85.925000   31.000000   \n",
       "max    225.000000  100.000000  168.000000  186.000000  100.000000  113.000000   \n",
       "\n",
       "             DREB         REB         AST         STL         BLK          TO  \\\n",
       "count  142.000000  142.000000  142.000000  142.000000  142.000000  142.000000   \n",
       "mean    61.591549   83.654930   44.514085   17.725352    9.781690   32.288732   \n",
       "std     49.669854   68.200585   41.490790   13.413312   12.537669   21.447141   \n",
       "min      2.000000    2.000000    0.000000    0.000000    0.000000    2.000000   \n",
       "25%     26.000000   34.250000   11.250000    7.000000    2.000000   14.000000   \n",
       "50%     50.000000   62.500000   34.000000   15.000000    5.000000   28.000000   \n",
       "75%     84.000000  116.500000   66.750000   27.500000   12.000000   48.000000   \n",
       "max    226.000000  334.000000  206.000000   63.000000   64.000000   87.000000   \n",
       "\n",
       "              PTS         DD2         TD3  \n",
       "count  142.000000  142.000000  142.000000  \n",
       "mean   203.169014    1.140845    0.007042  \n",
       "std    153.032559    2.909002    0.083918  \n",
       "min      2.000000    0.000000    0.000000  \n",
       "25%     77.250000    0.000000    0.000000  \n",
       "50%    181.000000    0.000000    0.000000  \n",
       "75%    277.750000    1.000000    0.000000  \n",
       "max    584.000000   17.000000    1.000000  "
      ]
     },
     "execution_count": 4,
     "metadata": {},
     "output_type": "execute_result"
    }
   ],
   "source": [
    "#your code here\n",
    "wnba.describe()"
   ]
  },
  {
   "cell_type": "markdown",
   "metadata": {},
   "source": [
    "Most of the game-related stats have a very high range of values which can be explained by the fact that the dataset contains data on both players that play the majority of games and also players that may spend almost the entirety of the season on the bench.\n",
    "\n",
    "There are also some extremes in the weight and age columns. Feel free, if you'd like, to check which are the players with a very high (or low) age/weight and do some research on them. This is useful to confirm that they are simply outliers and not errors in the data."
   ]
  },
  {
   "cell_type": "code",
   "execution_count": 13,
   "metadata": {},
   "outputs": [
    {
     "name": "stdout",
     "output_type": "stream",
     "text": [
      "                Name Team Pos  Height  Weight        BMI Birth_Place  \\\n",
      "86  Leilani Mitchell  PHO   G     165      58  21.303949          US   \n",
      "\n",
      "        Birthdate  Age College Experience  Games Played  MIN  FGM  FGA   FG%  \\\n",
      "86  June 15, 1985   32    Utah          9            30  623   70  182  38.5   \n",
      "\n",
      "    3PM  3PA   3P%  FTM  FTA   FT%  OREB  DREB  REB  AST  STL  BLK  TO  PTS  \\\n",
      "86   31   92  33.7   62   75  82.7    12    57   69  108   26    9  50  233   \n",
      "\n",
      "    DD2  TD3  \n",
      "86    0    0  \n"
     ]
    }
   ],
   "source": [
    "#your code here\n",
    "#print(wnba[wnba.Weight == wnba.Weight.max()]) \n",
    "#print(wnba[wnba.Weight == wnba.Weight.min()]) \n",
    "print(wnba[wnba.Height == wnba.Height.min()]) "
   ]
  },
  {
   "cell_type": "markdown",
   "metadata": {},
   "source": [
    "### Looking at the distributions of the data\n",
    "Let's take a look at the distribution of the 4 stats that describe the physical characteristics of the players.\n",
    "\n",
    "**Plot the four distributions about `height`, `weight`, `age` and `BMI`.**"
   ]
  },
  {
   "cell_type": "code",
   "execution_count": 36,
   "metadata": {},
   "outputs": [
    {
     "data": {
      "text/plain": [
       "<matplotlib.axes._subplots.AxesSubplot at 0x126052cf8>"
      ]
     },
     "execution_count": 36,
     "metadata": {},
     "output_type": "execute_result"
    },
    {
     "data": {
      "image/png": "[encoded data removed]",
      "text/plain": [
       "<Figure size 432x288 with 1 Axes>"
      ]
     },
     "metadata": {
      "needs_background": "light"
     },
     "output_type": "display_data"
    }
   ],
   "source": [
    "#your code here\n",
    "#wnba.Height.hist()\n",
    "wnba.Weight.hist()\n",
    "#wnba.Age.hist()\n",
    "#wnba.BMI.hist()"
   ]
  },
  {
   "cell_type": "markdown",
   "metadata": {},
   "source": [
    "**What conclusions do you think we can take from this plots?**"
   ]
  },
  {
   "cell_type": "code",
   "execution_count": 6,
   "metadata": {},
   "outputs": [],
   "source": [
    "#your conclusions here"
   ]
  },
  {
   "cell_type": "markdown",
   "metadata": {},
   "source": [
    "In addition to what the describe() method already told us we can see that the physical characteristics of the players (apart from the age) more or less follow a standard distribution, which is expected when looking at the distribution of values that arise from a lot of factors that are independent from each other as is the case for many physical quantities. \n",
    "\n",
    "The height distribution looks like a bimodal. This may be due to the fact that players in basketball fall under two main categories (please note that this is a very gross generalization): shorter and more agile, and taller and less agile. Therefore there are less \"average\" height players since they will neither be as agile as the shorter players nor have the same impact in the paint (that is, under the basket) as a taller player.\n",
    "\n",
    "The age distribution is a bit skewed to the right which is expected since most professional players stop playing after their prime physical years come to an end."
   ]
  },
  {
   "cell_type": "markdown",
   "metadata": {},
   "source": [
    "We could do the same for the main game stats. They are points, assists, blocks, rebounds and steals. \n",
    "\n",
    "**Now plot the distribution of the columns `REB`, `AST`, `STL`, `PTS` and `BLK` the same way you did in the last cell.**"
   ]
  },
  {
   "cell_type": "code",
   "execution_count": 28,
   "metadata": {},
   "outputs": [
    {
     "data": {
      "text/plain": [
       "<matplotlib.axes._subplots.AxesSubplot at 0x11d12ab70>"
      ]
     },
     "execution_count": 28,
     "metadata": {},
     "output_type": "execute_result"
    },
    {
     "data": {
      "image/png": "[encoded data removed]",
      "text/plain": [
       "<Figure size 432x288 with 1 Axes>"
      ]
     },
     "metadata": {
      "needs_background": "light"
     },
     "output_type": "display_data"
    }
   ],
   "source": [
    "#your code here\n",
    "#wnba.REB.hist()\n",
    "#wnba.AST.hist()\n",
    "#wnba.STL.hist()\n",
    "#wnba.PTS.hist()\n",
    "wnba.BLK.hist()"
   ]
  },
  {
   "cell_type": "markdown",
   "metadata": {},
   "source": [
    "**What conclusions do you think we can take from this plots?**"
   ]
  },
  {
   "cell_type": "code",
   "execution_count": null,
   "metadata": {},
   "outputs": [],
   "source": [
    "#your conclusions here\n",
    "#Rebounds are concentrated to the left many players with just a few rebounds only some with a lot\n",
    "#depends of course on the amount of playing time\n",
    "#Same with assists\n",
    "#and with Steals\n",
    "#and Points\n",
    "#and blocks but sicne blocks are not that frequent a bit less distributed\n"
   ]
  },
  {
   "cell_type": "markdown",
   "metadata": {},
   "source": [
    "As expected all of the above distribution are heavily skewed to the right, since most players will have very low to average stats while there will be a handful of star players whose stats peak above everyone else. It is also important to think about the fact that we are simply taking the stats as they are without considering the minutes played by each player. Even though skill plays a very important factor in determining this kind of stats we also have to consider that players that play more minutes will, on average, score more points (or blocks, assists, etc.)."
   ]
  },
  {
   "cell_type": "markdown",
   "metadata": {},
   "source": [
    "**For the sake of it let's look at the same distributions by dividing those stats by the minutes played for each player in the dataset.** "
   ]
  },
  {
   "cell_type": "code",
   "execution_count": 35,
   "metadata": {},
   "outputs": [
    {
     "data": {
      "text/plain": [
       "<matplotlib.axes._subplots.AxesSubplot at 0x126066940>"
      ]
     },
     "execution_count": 35,
     "metadata": {},
     "output_type": "execute_result"
    },
    {
     "data": {
      "image/png": "[encoded data removed]",
      "text/plain": [
       "<Figure size 432x288 with 1 Axes>"
      ]
     },
     "metadata": {
      "needs_background": "light"
     },
     "output_type": "display_data"
    }
   ],
   "source": [
    "#your code here\n",
    "wnba2=wnba\n",
    "wnba2[\"BLKpMIN\"]=wnba2.BLK/wnba2.MIN\n",
    "wnba2.BLKpMIN.hist()\n",
    "#the data is way less divided"
   ]
  },
  {
   "cell_type": "markdown",
   "metadata": {},
   "source": [
    "**What conclusions do you think we can take from this plots?**"
   ]
  },
  {
   "cell_type": "code",
   "execution_count": null,
   "metadata": {},
   "outputs": [],
   "source": [
    "#your conclusions here\n",
    "#the data is way less divided\n",
    "#so big variation depends largly on minutes played\n",
    "#but minutes palyed of course also depend on the talent of the player\n",
    "#"
   ]
  },
  {
   "cell_type": "markdown",
   "metadata": {},
   "source": [
    "### Summary\n",
    "\n",
    "The main insights we obtained from this exploratory analysis are:\n",
    "- Game-related stats have a very high range of values.\n",
    "- There are some extremes in the weight and age columns.\n",
    "- The physical characteristics of the players more or less follow a standard distribution.\n",
    "- We need to take into account that our dataset contains data on both players that play the majority of games and also players that may spend almost the entirety of the season on the bench.\n",
    "\n",
    "Now, it's time to try to put an end to your family's discussions. As seen on the README, the main discussions are:\n",
    "- Your grandmother says that your sister couldn't play in a professional basketball league (not only the WNBA, but ANY professional basketball league) because she's too skinny and lacks muscle.\n",
    "- Your sister says that most female professional players fail their free throws.\n",
    "- Your brother-in-law heard on the TV that the average assists among NBA (male) and WNBA (female) players is 52 for the 2016-2017 season. He is convinced this average would be higher if we only considered the players from the WNBA.\n",
    "\n",
    "**Do you think you have all the necessary data to answer these questions?**"
   ]
  },
  {
   "cell_type": "code",
   "execution_count": null,
   "metadata": {},
   "outputs": [],
   "source": [
    "#your comments here\n",
    "#1. If I knew the Weight and BMI of \"my sister\" i could compare that with the mean etc. of the dataframe\n",
    "#2. Since the median and mean are 80% and  75%  the answer is not most female prof. players make their free throws\n",
    "#3. Since the WNBA plays way less games than the NBA this is not true the average here is 42"
   ]
  }
 ],
 "metadata": {
  "kernelspec": {
   "display_name": "Python 3",
   "language": "python",
   "name": "python3"
  },
  "language_info": {
   "codemirror_mode": {
    "name": "ipython",
    "version": 3
   },
   "file_extension": ".py",
   "mimetype": "text/x-python",
   "name": "python",
   "nbconvert_exporter": "python",
   "pygments_lexer": "ipython3",
   "version": "3.7.0"
  }
 },
 "nbformat": 4,
 "nbformat_minor": 2
}
