{
 "cells": [
  {
   "cell_type": "markdown",
   "metadata": {},
   "source": [
    "# Challenge 1 - Tic Tac Toe\n",
    "\n",
    "In this lab you will perform deep learning analysis on a dataset of playing [Tic Tac Toe](https://en.wikipedia.org/wiki/Tic-tac-toe).\n",
    "\n",
    "There are 9 grids in Tic Tac Toe that are coded as the following picture shows:\n",
    "\n",
    "![Tic Tac Toe Grids](tttboard.jpg)\n",
    "\n",
    "In the first 9 columns of the dataset you can find which marks (`x` or `o`) exist in the grids. If there is no mark in a certain grid, it is labeled as `b`. The last column is `class` which tells you whether Player X (who always moves first in Tic Tac Toe) wins in this configuration. Note that when `class` has the value `False`, it means either Player O wins the game or it ends up as a draw."
   ]
  },
  {
   "cell_type": "markdown",
   "metadata": {},
   "source": [
    "Follow the steps suggested below to conduct a neural network analysis using Tensorflow and Keras. You will build a deep learning model to predict whether Player X wins the game or not.\n",
    "\n",
    "## Step 1: Data Engineering\n",
    "\n",
    "This dataset is almost in the ready-to-use state so you do not need to worry about missing values and so on. Still, some simple data engineering is needed.\n",
    "\n",
    "1. Read `tic-tac-toe.csv` into a dataframe.\n",
    "1. Inspect the dataset. Determine if the dataset is reliable by eyeballing the data.\n",
    "1. Convert the categorical values to numeric in all columns.\n",
    "1. Separate the inputs and output.\n",
    "1. Normalize the input data."
   ]
  },
  {
   "cell_type": "code",
   "execution_count": 2,
   "metadata": {},
   "outputs": [],
   "source": [
    "# your code here\n",
    "import pandas as pd\n",
    "import numpy as np"
   ]
  },
  {
   "cell_type": "code",
   "execution_count": 3,
   "metadata": {},
   "outputs": [],
   "source": [
    "data=pd.read_csv(\"tic-tac-toe.csv\")"
   ]
  },
  {
   "cell_type": "code",
   "execution_count": 4,
   "metadata": {},
   "outputs": [
    {
     "data": {
      "text/plain": [
       "TL       object\n",
       "TM       object\n",
       "TR       object\n",
       "ML       object\n",
       "MM       object\n",
       "MR       object\n",
       "BL       object\n",
       "BM       object\n",
       "BR       object\n",
       "class      bool\n",
       "dtype: object"
      ]
     },
     "execution_count": 4,
     "metadata": {},
     "output_type": "execute_result"
    }
   ],
   "source": [
    "data.head()\n",
    "data.dtypes\n",
    "#data.TL.value_counts()"
   ]
  },
  {
   "cell_type": "code",
   "execution_count": 5,
   "metadata": {},
   "outputs": [],
   "source": [
    "cols=[\"TL\",\"TM\",\"TR\",\"ML\",\"MM\",\"MR\",\"BL\",\"BM\",\"BR\"]\n",
    "for col in cols:\n",
    "    data.loc[data[col] == \"x\",col ] = 1\n",
    "    data.loc[data[col] == \"o\",col ] = 2\n",
    "    data.loc[data[col] == \"b\",col ] = 0\n",
    "\n",
    "#data.loc[data[\"TL\"] == \"x\",\"TL\" ] = 1"
   ]
  },
  {
   "cell_type": "code",
   "execution_count": 6,
   "metadata": {},
   "outputs": [
    {
     "data": {
      "text/plain": [
       "TL       int64\n",
       "TM       int64\n",
       "TR       int64\n",
       "ML       int64\n",
       "MM       int64\n",
       "MR       int64\n",
       "BL       int64\n",
       "BM       int64\n",
       "BR       int64\n",
       "class    int64\n",
       "dtype: object"
      ]
     },
     "execution_count": 6,
     "metadata": {},
     "output_type": "execute_result"
    }
   ],
   "source": [
    "data.head()\n",
    "data.dtypes\n",
    "data[\"class\"]=data[\"class\"].astype(int)\n",
    "data.dtypes"
   ]
  },
  {
   "cell_type": "code",
   "execution_count": 10,
   "metadata": {},
   "outputs": [],
   "source": [
    "X=data.drop([\"class\"],axis=1)\n",
    "y=data[\"class\"]"
   ]
  },
  {
   "cell_type": "code",
   "execution_count": 18,
   "metadata": {},
   "outputs": [
    {
     "data": {
      "text/html": [
       "<div>\n",
       "<style scoped>\n",
       "    .dataframe tbody tr th:only-of-type {\n",
       "        vertical-align: middle;\n",
       "    }\n",
       "\n",
       "    .dataframe tbody tr th {\n",
       "        vertical-align: top;\n",
       "    }\n",
       "\n",
       "    .dataframe thead th {\n",
       "        text-align: right;\n",
       "    }\n",
       "</style>\n",
       "<table border=\"1\" class=\"dataframe\">\n",
       "  <thead>\n",
       "    <tr style=\"text-align: right;\">\n",
       "      <th></th>\n",
       "      <th>TL</th>\n",
       "      <th>TM</th>\n",
       "      <th>TR</th>\n",
       "      <th>ML</th>\n",
       "      <th>MM</th>\n",
       "      <th>MR</th>\n",
       "      <th>BL</th>\n",
       "      <th>BM</th>\n",
       "      <th>BR</th>\n",
       "    </tr>\n",
       "  </thead>\n",
       "  <tbody>\n",
       "    <tr>\n",
       "      <th>0</th>\n",
       "      <td>-0.183675</td>\n",
       "      <td>-0.10789</td>\n",
       "      <td>-0.183675</td>\n",
       "      <td>-0.10789</td>\n",
       "      <td>1.163573</td>\n",
       "      <td>1.184095</td>\n",
       "      <td>-0.183675</td>\n",
       "      <td>1.184095</td>\n",
       "      <td>1.169866</td>\n",
       "    </tr>\n",
       "    <tr>\n",
       "      <th>1</th>\n",
       "      <td>-0.183675</td>\n",
       "      <td>-0.10789</td>\n",
       "      <td>-0.183675</td>\n",
       "      <td>-0.10789</td>\n",
       "      <td>1.163573</td>\n",
       "      <td>1.184095</td>\n",
       "      <td>1.169866</td>\n",
       "      <td>-0.107890</td>\n",
       "      <td>1.169866</td>\n",
       "    </tr>\n",
       "    <tr>\n",
       "      <th>2</th>\n",
       "      <td>-0.183675</td>\n",
       "      <td>-0.10789</td>\n",
       "      <td>-0.183675</td>\n",
       "      <td>-0.10789</td>\n",
       "      <td>1.163573</td>\n",
       "      <td>1.184095</td>\n",
       "      <td>1.169866</td>\n",
       "      <td>1.184095</td>\n",
       "      <td>-0.183675</td>\n",
       "    </tr>\n",
       "    <tr>\n",
       "      <th>3</th>\n",
       "      <td>-0.183675</td>\n",
       "      <td>-0.10789</td>\n",
       "      <td>-0.183675</td>\n",
       "      <td>-0.10789</td>\n",
       "      <td>1.163573</td>\n",
       "      <td>1.184095</td>\n",
       "      <td>1.169866</td>\n",
       "      <td>-1.399876</td>\n",
       "      <td>-1.537216</td>\n",
       "    </tr>\n",
       "    <tr>\n",
       "      <th>4</th>\n",
       "      <td>-0.183675</td>\n",
       "      <td>-0.10789</td>\n",
       "      <td>-0.183675</td>\n",
       "      <td>-0.10789</td>\n",
       "      <td>1.163573</td>\n",
       "      <td>1.184095</td>\n",
       "      <td>-1.537216</td>\n",
       "      <td>1.184095</td>\n",
       "      <td>-1.537216</td>\n",
       "    </tr>\n",
       "  </tbody>\n",
       "</table>\n",
       "</div>"
      ],
      "text/plain": [
       "         TL       TM        TR       ML        MM        MR        BL  \\\n",
       "0 -0.183675 -0.10789 -0.183675 -0.10789  1.163573  1.184095 -0.183675   \n",
       "1 -0.183675 -0.10789 -0.183675 -0.10789  1.163573  1.184095  1.169866   \n",
       "2 -0.183675 -0.10789 -0.183675 -0.10789  1.163573  1.184095  1.169866   \n",
       "3 -0.183675 -0.10789 -0.183675 -0.10789  1.163573  1.184095  1.169866   \n",
       "4 -0.183675 -0.10789 -0.183675 -0.10789  1.163573  1.184095 -1.537216   \n",
       "\n",
       "         BM        BR  \n",
       "0  1.184095  1.169866  \n",
       "1 -0.107890  1.169866  \n",
       "2  1.184095 -0.183675  \n",
       "3 -1.399876 -1.537216  \n",
       "4  1.184095 -1.537216  "
      ]
     },
     "execution_count": 18,
     "metadata": {},
     "output_type": "execute_result"
    }
   ],
   "source": [
    "X_norm=(inp-inp.mean())/inp.std()\n",
    "inp_norm.head()"
   ]
  },
  {
   "cell_type": "markdown",
   "metadata": {},
   "source": [
    "## Step 2: Build Neural Network\n",
    "\n",
    "To build the neural network, you can refer to your own codes you wrote while following the [Deep Learning with Python, TensorFlow, and Keras tutorial](https://www.youtube.com/watch?v=wQ8BIBpya2k) in the lesson. It's pretty similar to what you will be doing in this lab.\n",
    "\n",
    "1. Split the training and test data.\n",
    "1. Create a `Sequential` model.\n",
    "1. Add several layers to your model. Make sure you use ReLU as the activation function for the middle layers. Use Softmax for the output layer because each output has a single lable and all the label probabilities add up to 1.\n",
    "1. Compile the model using `adam` as the optimizer and `sparse_categorical_crossentropy` as the loss function. For metrics, use `accuracy` for now.\n",
    "1. Fit the training data.\n",
    "1. Evaluate your neural network model with the test data.\n",
    "1. Save your model as `tic-tac-toe.model`."
   ]
  },
  {
   "cell_type": "code",
   "execution_count": 23,
   "metadata": {},
   "outputs": [],
   "source": [
    "# your code here\n",
    "#import sys\n",
    "#!{sys.executable} -m pip install tensorflow # as reminder"
   ]
  },
  {
   "cell_type": "code",
   "execution_count": 9,
   "metadata": {},
   "outputs": [],
   "source": [
    "import tensorflow as tf"
   ]
  },
  {
   "cell_type": "code",
   "execution_count": 25,
   "metadata": {},
   "outputs": [],
   "source": [
    "X=data.drop([\"class\"],axis=1)\n",
    "y=data[\"class\"]\n",
    "from sklearn.model_selection import train_test_split\n",
    "X_train, X_test, y_train, y_test = train_test_split(X, y, test_size=0.2, random_state=1)"
   ]
  },
  {
   "cell_type": "code",
   "execution_count": null,
   "metadata": {},
   "outputs": [],
   "source": []
  },
  {
   "cell_type": "code",
   "execution_count": 45,
   "metadata": {},
   "outputs": [],
   "source": [
    "#creating model\n",
    "model=tf.keras.models.Sequential()\n",
    "model.add(tf.keras.layers.Flatten())\n",
    "model.add(tf.keras.layers.Dense(128, activation=tf.nn.relu))\n",
    "model.add(tf.keras.layers.Dense(128, activation=tf.nn.relu))\n",
    "model.add(tf.keras.layers.Dense(2, activation=tf.nn.softmax))"
   ]
  },
  {
   "cell_type": "code",
   "execution_count": 47,
   "metadata": {},
   "outputs": [],
   "source": [
    "model.compile(optimizer=\"adam\",loss=\"sparse_categorical_crossentropy\",metrics=['accuracy'])"
   ]
  },
  {
   "cell_type": "code",
   "execution_count": 48,
   "metadata": {},
   "outputs": [
    {
     "name": "stdout",
     "output_type": "stream",
     "text": [
      "Epoch 1/35\n",
      "24/24 [==============================] - 0s 13ms/step - loss: 0.6443 - accuracy: 0.6462\n",
      "Epoch 2/35\n",
      "24/24 [==============================] - 0s 5ms/step - loss: 0.5917 - accuracy: 0.6828\n",
      "Epoch 3/35\n",
      "24/24 [==============================] - 0s 6ms/step - loss: 0.5552 - accuracy: 0.7141\n",
      "Epoch 4/35\n",
      "24/24 [==============================] - 0s 5ms/step - loss: 0.5222 - accuracy: 0.7141\n",
      "Epoch 5/35\n",
      "24/24 [==============================] - 0s 3ms/step - loss: 0.4875 - accuracy: 0.7533\n",
      "Epoch 6/35\n",
      "24/24 [==============================] - 0s 4ms/step - loss: 0.4608 - accuracy: 0.7611\n",
      "Epoch 7/35\n",
      "24/24 [==============================] - 0s 5ms/step - loss: 0.4467 - accuracy: 0.7768: 0s - loss: 0.4694 - accuracy: 0.\n",
      "Epoch 8/35\n",
      "24/24 [==============================] - 0s 11ms/step - loss: 0.4122 - accuracy: 0.8107 0s - loss: 0.4060 - accuracy: \n",
      "Epoch 9/35\n",
      "24/24 [==============================] - 0s 6ms/step - loss: 0.4000 - accuracy: 0.8055\n",
      "Epoch 10/35\n",
      "24/24 [==============================] - 0s 6ms/step - loss: 0.3850 - accuracy: 0.8329\n",
      "Epoch 11/35\n",
      "24/24 [==============================] - 0s 14ms/step - loss: 0.3621 - accuracy: 0.8329\n",
      "Epoch 12/35\n",
      "24/24 [==============================] - 0s 3ms/step - loss: 0.3426 - accuracy: 0.8486\n",
      "Epoch 13/35\n",
      "24/24 [==============================] - 0s 5ms/step - loss: 0.3277 - accuracy: 0.8668\n",
      "Epoch 14/35\n",
      "24/24 [==============================] - 0s 3ms/step - loss: 0.3100 - accuracy: 0.8695\n",
      "Epoch 15/35\n",
      "24/24 [==============================] - 0s 3ms/step - loss: 0.2951 - accuracy: 0.8877\n",
      "Epoch 16/35\n",
      "24/24 [==============================] - 0s 5ms/step - loss: 0.2784 - accuracy: 0.8982\n",
      "Epoch 17/35\n",
      "24/24 [==============================] - 0s 3ms/step - loss: 0.2824 - accuracy: 0.8799\n",
      "Epoch 18/35\n",
      "24/24 [==============================] - 0s 12ms/step - loss: 0.2699 - accuracy: 0.8995\n",
      "Epoch 19/35\n",
      "24/24 [==============================] - 0s 7ms/step - loss: 0.2468 - accuracy: 0.9047\n",
      "Epoch 20/35\n",
      "24/24 [==============================] - 0s 5ms/step - loss: 0.2437 - accuracy: 0.9073\n",
      "Epoch 21/35\n",
      "24/24 [==============================] - 0s 5ms/step - loss: 0.2335 - accuracy: 0.9099\n",
      "Epoch 22/35\n",
      "24/24 [==============================] - 0s 7ms/step - loss: 0.2132 - accuracy: 0.9204\n",
      "Epoch 23/35\n",
      "24/24 [==============================] - 0s 9ms/step - loss: 0.2071 - accuracy: 0.9269\n",
      "Epoch 24/35\n",
      "24/24 [==============================] - 0s 9ms/step - loss: 0.2075 - accuracy: 0.9230\n",
      "Epoch 25/35\n",
      "24/24 [==============================] - 0s 4ms/step - loss: 0.1916 - accuracy: 0.9321\n",
      "Epoch 26/35\n",
      "24/24 [==============================] - 0s 3ms/step - loss: 0.1872 - accuracy: 0.9321\n",
      "Epoch 27/35\n",
      "24/24 [==============================] - 0s 4ms/step - loss: 0.1762 - accuracy: 0.9386\n",
      "Epoch 28/35\n",
      "24/24 [==============================] - 0s 3ms/step - loss: 0.1618 - accuracy: 0.9413\n",
      "Epoch 29/35\n",
      "24/24 [==============================] - 0s 5ms/step - loss: 0.1550 - accuracy: 0.9439\n",
      "Epoch 30/35\n",
      "24/24 [==============================] - 0s 4ms/step - loss: 0.1401 - accuracy: 0.9582\n",
      "Epoch 31/35\n",
      "24/24 [==============================] - 0s 5ms/step - loss: 0.1342 - accuracy: 0.9530\n",
      "Epoch 32/35\n",
      "24/24 [==============================] - 0s 12ms/step - loss: 0.1414 - accuracy: 0.9582\n",
      "Epoch 33/35\n",
      "24/24 [==============================] - 0s 4ms/step - loss: 0.1313 - accuracy: 0.9569\n",
      "Epoch 34/35\n",
      "24/24 [==============================] - 0s 4ms/step - loss: 0.1281 - accuracy: 0.9648\n",
      "Epoch 35/35\n",
      "24/24 [==============================] - 0s 3ms/step - loss: 0.1143 - accuracy: 0.9648\n"
     ]
    },
    {
     "data": {
      "text/plain": [
       "<tensorflow.python.keras.callbacks.History at 0x143f214e0>"
      ]
     },
     "execution_count": 48,
     "metadata": {},
     "output_type": "execute_result"
    }
   ],
   "source": [
    "model.fit(X_train,y_train,epochs=35)"
   ]
  },
  {
   "cell_type": "code",
   "execution_count": 49,
   "metadata": {},
   "outputs": [
    {
     "name": "stdout",
     "output_type": "stream",
     "text": [
      "6/6 [==============================] - 0s 2ms/step - loss: 0.2099 - accuracy: 0.9062\n",
      "0.20985855162143707\n",
      "0.90625\n"
     ]
    }
   ],
   "source": [
    "val_loss, val_acc = model.evaluate(X_test, y_test)\n",
    "print(val_loss)\n",
    "print(val_acc)"
   ]
  },
  {
   "cell_type": "code",
   "execution_count": 61,
   "metadata": {},
   "outputs": [
    {
     "name": "stdout",
     "output_type": "stream",
     "text": [
      "INFO:tensorflow:Assets written to: tik_tac_toe.model/assets\n"
     ]
    }
   ],
   "source": [
    "model.save(\"tik_tac_toe.model\")\n",
    "tik_tac_toe_model=tf.keras.models.load_model(\"tik_tac_toe.model\")"
   ]
  },
  {
   "cell_type": "markdown",
   "metadata": {},
   "source": [
    "## Step 3: Make Predictions\n",
    "\n",
    "Now load your saved model and use it to make predictions on a few random rows in the test dataset. Check if the predictions are correct."
   ]
  },
  {
   "cell_type": "code",
   "execution_count": 65,
   "metadata": {},
   "outputs": [
    {
     "name": "stdout",
     "output_type": "stream",
     "text": [
      "0\n"
     ]
    },
    {
     "data": {
      "text/plain": [
       "950    0\n",
       "951    0\n",
       "952    0\n",
       "953    0\n",
       "954    0\n",
       "955    0\n",
       "956    0\n",
       "957    0\n",
       "Name: class, dtype: int64"
      ]
     },
     "execution_count": 65,
     "metadata": {},
     "output_type": "execute_result"
    }
   ],
   "source": [
    "# your code here\n",
    "pred=model.predict(X[950:])\n",
    "print(np.argmax(pred[5]))\n",
    "y[950:]"
   ]
  },
  {
   "cell_type": "code",
   "execution_count": null,
   "metadata": {},
   "outputs": [],
   "source": []
  },
  {
   "cell_type": "markdown",
   "metadata": {},
   "source": [
    "## Step 4: Improve Your Model\n",
    "\n",
    "Did your model achieve low loss (<0.1) and high accuracy (>0.95)? If not, try to improve your model.\n",
    "\n",
    "But how? There are so many things you can play with in Tensorflow and in the next challenge you'll learn about these things. But in this challenge, let's just do a few things to see if they will help.\n",
    "\n",
    "* Add more layers to your model. If the data are complex you need more layers. But don't use more layers than you need. If adding more layers does not improve the model performance you don't need additional layers.\n",
    "* Adjust the learning rate when you compile the model. This means you will create a custom `tf.keras.optimizers.Adam` instance where you specify the learning rate you want. Then pass the instance to `model.compile` as the optimizer.\n",
    "    * `tf.keras.optimizers.Adam` [reference](https://www.tensorflow.org/api_docs/python/tf/keras/optimizers/Adam).\n",
    "    * Don't worry if you don't understand what the learning rate does. You'll learn about it in the next challenge.\n",
    "* Adjust the number of epochs when you fit the training data to the model. Your model performance continues to improve as you train more epochs. But eventually it will reach the ceiling and the performance will stay the same."
   ]
  },
  {
   "cell_type": "code",
   "execution_count": 58,
   "metadata": {},
   "outputs": [
    {
     "name": "stdout",
     "output_type": "stream",
     "text": [
      "Epoch 1/50\n",
      "24/24 [==============================] - 0s 3ms/step - loss: 9.6926e-04 - accuracy: 1.0000\n",
      "Epoch 2/50\n",
      "24/24 [==============================] - 0s 3ms/step - loss: 6.5324e-04 - accuracy: 1.0000\n",
      "Epoch 3/50\n",
      "24/24 [==============================] - 0s 5ms/step - loss: 2.0352e-04 - accuracy: 1.0000\n",
      "Epoch 4/50\n",
      "24/24 [==============================] - 0s 3ms/step - loss: 1.1455e-04 - accuracy: 1.0000\n",
      "Epoch 5/50\n",
      "24/24 [==============================] - 0s 4ms/step - loss: 9.0094e-05 - accuracy: 1.0000\n",
      "Epoch 6/50\n",
      "24/24 [==============================] - 0s 4ms/step - loss: 8.1406e-05 - accuracy: 1.0000\n",
      "Epoch 7/50\n",
      "24/24 [==============================] - 0s 4ms/step - loss: 7.4324e-05 - accuracy: 1.0000\n",
      "Epoch 8/50\n",
      "24/24 [==============================] - 0s 3ms/step - loss: 7.0635e-05 - accuracy: 1.0000\n",
      "Epoch 9/50\n",
      "24/24 [==============================] - 0s 3ms/step - loss: 7.5554e-05 - accuracy: 1.0000\n",
      "Epoch 10/50\n",
      "24/24 [==============================] - 0s 7ms/step - loss: 6.6373e-05 - accuracy: 1.0000\n",
      "Epoch 11/50\n",
      "24/24 [==============================] - 0s 4ms/step - loss: 6.1394e-05 - accuracy: 1.0000\n",
      "Epoch 12/50\n",
      "24/24 [==============================] - 0s 4ms/step - loss: 6.0852e-05 - accuracy: 1.0000\n",
      "Epoch 13/50\n",
      "24/24 [==============================] - 0s 4ms/step - loss: 5.8522e-05 - accuracy: 1.0000\n",
      "Epoch 14/50\n",
      "24/24 [==============================] - 0s 4ms/step - loss: 5.3783e-05 - accuracy: 1.0000\n",
      "Epoch 15/50\n",
      "24/24 [==============================] - 0s 4ms/step - loss: 5.1156e-05 - accuracy: 1.0000\n",
      "Epoch 16/50\n",
      "24/24 [==============================] - 0s 4ms/step - loss: 5.0301e-05 - accuracy: 1.0000\n",
      "Epoch 17/50\n",
      "24/24 [==============================] - 0s 4ms/step - loss: 4.8922e-05 - accuracy: 1.0000\n",
      "Epoch 18/50\n",
      "24/24 [==============================] - 0s 3ms/step - loss: 4.6837e-05 - accuracy: 1.0000\n",
      "Epoch 19/50\n",
      "24/24 [==============================] - 0s 5ms/step - loss: 4.6626e-05 - accuracy: 1.0000\n",
      "Epoch 20/50\n",
      "24/24 [==============================] - 0s 3ms/step - loss: 4.4973e-05 - accuracy: 1.0000\n",
      "Epoch 21/50\n",
      "24/24 [==============================] - 0s 5ms/step - loss: 4.4416e-05 - accuracy: 1.0000\n",
      "Epoch 22/50\n",
      "24/24 [==============================] - 0s 4ms/step - loss: 4.3055e-05 - accuracy: 1.0000\n",
      "Epoch 23/50\n",
      "24/24 [==============================] - 0s 4ms/step - loss: 4.1282e-05 - accuracy: 1.0000\n",
      "Epoch 24/50\n",
      "24/24 [==============================] - 0s 4ms/step - loss: 4.1717e-05 - accuracy: 1.0000\n",
      "Epoch 25/50\n",
      "24/24 [==============================] - 0s 5ms/step - loss: 4.0450e-05 - accuracy: 1.0000\n",
      "Epoch 26/50\n",
      "24/24 [==============================] - 0s 4ms/step - loss: 3.6881e-05 - accuracy: 1.0000\n",
      "Epoch 27/50\n",
      "24/24 [==============================] - 0s 2ms/step - loss: 3.6298e-05 - accuracy: 1.0000\n",
      "Epoch 28/50\n",
      "24/24 [==============================] - 0s 5ms/step - loss: 3.4771e-05 - accuracy: 1.0000\n",
      "Epoch 29/50\n",
      "24/24 [==============================] - 0s 8ms/step - loss: 3.3393e-05 - accuracy: 1.0000\n",
      "Epoch 30/50\n",
      "24/24 [==============================] - 0s 3ms/step - loss: 3.2517e-05 - accuracy: 1.0000\n",
      "Epoch 31/50\n",
      "24/24 [==============================] - 0s 4ms/step - loss: 3.1934e-05 - accuracy: 1.0000\n",
      "Epoch 32/50\n",
      "24/24 [==============================] - 0s 4ms/step - loss: 3.0807e-05 - accuracy: 1.0000\n",
      "Epoch 33/50\n",
      "24/24 [==============================] - 0s 4ms/step - loss: 2.9931e-05 - accuracy: 1.0000\n",
      "Epoch 34/50\n",
      "24/24 [==============================] - 0s 4ms/step - loss: 2.8679e-05 - accuracy: 1.0000\n",
      "Epoch 35/50\n",
      "24/24 [==============================] - 0s 4ms/step - loss: 2.8904e-05 - accuracy: 1.0000\n",
      "Epoch 36/50\n",
      "24/24 [==============================] - 0s 3ms/step - loss: 2.7650e-05 - accuracy: 1.0000\n",
      "Epoch 37/50\n",
      "24/24 [==============================] - 0s 6ms/step - loss: 2.7168e-05 - accuracy: 1.0000\n",
      "Epoch 38/50\n",
      "24/24 [==============================] - 0s 4ms/step - loss: 2.6038e-05 - accuracy: 1.0000\n",
      "Epoch 39/50\n",
      "24/24 [==============================] - 0s 5ms/step - loss: 2.5287e-05 - accuracy: 1.0000\n",
      "Epoch 40/50\n",
      "24/24 [==============================] - 0s 6ms/step - loss: 2.5017e-05 - accuracy: 1.0000\n",
      "Epoch 41/50\n",
      "24/24 [==============================] - 0s 5ms/step - loss: 2.4475e-05 - accuracy: 1.0000\n",
      "Epoch 42/50\n",
      "24/24 [==============================] - 0s 9ms/step - loss: 2.3441e-05 - accuracy: 1.0000\n",
      "Epoch 43/50\n",
      "24/24 [==============================] - 0s 7ms/step - loss: 2.3672e-05 - accuracy: 1.0000\n",
      "Epoch 44/50\n",
      "24/24 [==============================] - 0s 10ms/step - loss: 2.3264e-05 - accuracy: 1.0000\n",
      "Epoch 45/50\n",
      "24/24 [==============================] - 0s 8ms/step - loss: 2.2576e-05 - accuracy: 1.0000\n",
      "Epoch 46/50\n",
      "24/24 [==============================] - 0s 4ms/step - loss: 2.1095e-05 - accuracy: 1.0000\n",
      "Epoch 47/50\n",
      "24/24 [==============================] - 0s 3ms/step - loss: 2.0853e-05 - accuracy: 1.0000\n",
      "Epoch 48/50\n",
      "24/24 [==============================] - 0s 4ms/step - loss: 2.0501e-05 - accuracy: 1.0000\n",
      "Epoch 49/50\n",
      "24/24 [==============================] - 0s 3ms/step - loss: 1.9366e-05 - accuracy: 1.0000\n",
      "Epoch 50/50\n",
      "24/24 [==============================] - 0s 9ms/step - loss: 1.9126e-05 - accuracy: 1.0000\n"
     ]
    },
    {
     "data": {
      "text/plain": [
       "<tensorflow.python.keras.callbacks.History at 0x145088588>"
      ]
     },
     "execution_count": 58,
     "metadata": {},
     "output_type": "execute_result"
    }
   ],
   "source": [
    "# your code here\n",
    "model.compile(optimizer=\"adam\",loss=\"sparse_categorical_crossentropy\",metrics=['accuracy'])\n",
    "model.fit(X_train,y_train,epochs=50)"
   ]
  },
  {
   "cell_type": "markdown",
   "metadata": {},
   "source": [
    "**Which approach(es) did you find helpful to improve your model performance?**"
   ]
  },
  {
   "cell_type": "code",
   "execution_count": 59,
   "metadata": {},
   "outputs": [
    {
     "name": "stdout",
     "output_type": "stream",
     "text": [
      "6/6 [==============================] - 0s 4ms/step - loss: 0.2684 - accuracy: 0.9427\n",
      "0.2684389054775238\n",
      "0.9427083134651184\n"
     ]
    }
   ],
   "source": [
    "# your answer here\n",
    "val_loss, val_acc = model.evaluate(X_test, y_test)\n",
    "print(val_loss)\n",
    "print(val_acc)\n",
    "#will check chall 2 first"
   ]
  }
 ],
 "metadata": {
  "kernelspec": {
   "display_name": "Python 3",
   "language": "python",
   "name": "python3"
  },
  "language_info": {
   "codemirror_mode": {
    "name": "ipython",
    "version": 3
   },
   "file_extension": ".py",
   "mimetype": "text/x-python",
   "name": "python",
   "nbconvert_exporter": "python",
   "pygments_lexer": "ipython3",
   "version": "3.7.0"
  }
 },
 "nbformat": 4,
 "nbformat_minor": 2
}
