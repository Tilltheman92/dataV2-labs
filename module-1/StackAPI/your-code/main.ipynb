{
 "cells": [
  {
   "cell_type": "markdown",
   "metadata": {},
   "source": [
    "# StackAPI\n",
    "\n",
    "#### Import the necessary libraries here:"
   ]
  },
  {
   "cell_type": "code",
   "execution_count": 3,
   "metadata": {},
   "outputs": [],
   "source": [
    "# your code here\n",
    "#libaries\n",
    "from stackapi import StackAPI\n",
    "from datetime import datetime\n",
    "\n"
   ]
  },
  {
   "cell_type": "markdown",
   "metadata": {},
   "source": [
    "#### Question 1: Find the questions and answers of last month."
   ]
  },
  {
   "cell_type": "code",
   "execution_count": 75,
   "metadata": {},
   "outputs": [
    {
     "name": "stdout",
     "output_type": "stream",
     "text": [
      "7\n"
     ]
    }
   ],
   "source": [
    "# your code here\n",
    "#set parameters\n",
    "SITE = StackAPI('stackoverflow')\n",
    "\n",
    "#turning datetime objects into timestamps\n",
    "timestamp1 = datetime.timestamp(begin)\n",
    "timestamp2=datetime.timestamp(end)\n",
    "#adjusting amount of results\n",
    "\n",
    "\n",
    "#Code\n",
    "\n",
    "#Looking for all questions in april 2020\n",
    "questions = SITE.fetch('questions', fromdate=1585692000, todate=1588197600)\n",
    "#By default, StackAPI will return up to 500 items\n",
    "\n",
    "\n"
   ]
  },
  {
   "cell_type": "markdown",
   "metadata": {},
   "source": [
    "#### Question 2: Find the most voted question today with at least a score of 5 and tagged with 'python'. "
   ]
  },
  {
   "cell_type": "code",
   "execution_count": 69,
   "metadata": {},
   "outputs": [
    {
     "name": "stdout",
     "output_type": "stream",
     "text": [
      "{'backoff': 0, 'has_more': False, 'page': 1, 'quota_max': 300, 'quota_remaining': 300, 'total': 0, 'items': [{'tags': ['python', 'pandas'], 'owner': {'reputation': 103, 'user_id': 7740692, 'user_type': 'registered', 'profile_image': 'https://i.stack.imgur.com/GbSfv.jpg?s=128&g=1', 'display_name': 'Andy Wilson', 'link': 'https://stackoverflow.com/users/7740692/andy-wilson'}, 'is_answered': True, 'view_count': 52, 'answer_count': 3, 'score': 6, 'last_activity_date': 1589967702, 'creation_date': 1589965546, 'last_edit_date': 1589966099, 'question_id': 61909187, 'content_license': 'CC BY-SA 4.0', 'link': 'https://stackoverflow.com/questions/61909187/selecting-rows-with-multi-index-columns', 'title': 'Selecting rows with multi-index columns'}]}\n"
     ]
    }
   ],
   "source": [
    "# your code here\n",
    "begin = datetime(2020, 5, 20)\n",
    "end=datetime.now()\n",
    "high = SITE.fetch('questions', fromdate=begin, todate=end,\n",
    "    min=5, tagged='python', sort='votes')\n",
    "print(high)\n"
   ]
  },
  {
   "cell_type": "markdown",
   "metadata": {},
   "source": [
    "#### Question 3: Find the answers with id 6784 and 6473."
   ]
  },
  {
   "cell_type": "code",
   "execution_count": 85,
   "metadata": {},
   "outputs": [
    {
     "name": "stdout",
     "output_type": "stream",
     "text": [
      "{'backoff': 0, 'has_more': False, 'page': 1, 'quota_max': 300, 'quota_remaining': 300, 'total': 0, 'items': []}\n"
     ]
    }
   ],
   "source": [
    "# your code here\n",
    "#answers = SITE.fetch('answers/{6784}/comments')\n",
    "print(answers)\n",
    "#No answers with the ID 6784 or 6473\n",
    "answers = SITE.fetch('answers/{ids}/comments', ids=[6784,6473])\n",
    "                 "
   ]
  },
  {
   "cell_type": "code",
   "execution_count": 81,
   "metadata": {},
   "outputs": [
    {
     "name": "stdout",
     "output_type": "stream",
     "text": [
      "5\n"
     ]
    }
   ],
   "source": [
    "#additon to q1\n",
    "print(questions[\"page\"])\n"
   ]
  }
 ],
 "metadata": {
  "kernelspec": {
   "display_name": "Python 3",
   "language": "python",
   "name": "python3"
  },
  "language_info": {
   "codemirror_mode": {
    "name": "ipython",
    "version": 3
   },
   "file_extension": ".py",
   "mimetype": "text/x-python",
   "name": "python",
   "nbconvert_exporter": "python",
   "pygments_lexer": "ipython3",
   "version": "3.7.0"
  }
 },
 "nbformat": 4,
 "nbformat_minor": 2
}
