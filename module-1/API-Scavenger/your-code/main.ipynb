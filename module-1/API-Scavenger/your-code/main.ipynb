{
 "cells": [
  {
   "cell_type": "markdown",
   "metadata": {},
   "source": [
    "# API Scavenger Game\n",
    "\n",
    "## Challenge 1: Fork Languages\n",
    "\n",
    "You will find out how many programming languages are used among all the forks created from the main lab repo of your bootcamp."
   ]
  },
  {
   "cell_type": "code",
   "execution_count": 2,
   "metadata": {},
   "outputs": [],
   "source": [
    "# import libraries here\n",
    "import json\n",
    "import requests\n",
    "import pandas as pd\n",
    "from pandas.io.json import json_normalize\n",
    "import numpy as np\n",
    "\n",
    "username = 'Tilltheman92'\n",
    "token = 'xxx'\n",
    "#auth=(username,token))\n"
   ]
  },
  {
   "cell_type": "markdown",
   "metadata": {},
   "source": [
    "Assuming the main lab repo is ironhack-datalabs/madrid-oct-2018, you will:\n",
    "\n",
    "#### 1. Obtain the full list of forks created from the main lab repo via Github API."
   ]
  },
  {
   "cell_type": "markdown",
   "metadata": {},
   "source": [
    "To list forks, we can use the GET method. As explained in the GitHub API documentation, we need to make the request to: GET /repos/:owner/:repo/forks."
   ]
  },
  {
   "cell_type": "code",
   "execution_count": 31,
   "metadata": {},
   "outputs": [],
   "source": [
    "# your code here\n",
    "response=requests.get(\"https://api.github.com/repos/ironhack-datalabs/dataV2-labs/forks?page=(1&2)&per_page=100\")\n",
    "results=response.json()\n"
   ]
  },
  {
   "cell_type": "markdown",
   "metadata": {},
   "source": [
    "#### 2. Loop the JSON response to find out the language attribute of each fork. Use an array to store the language attributes of each fork.\n",
    "Hint: Each language should appear only once in your array.\n",
    "Print the language array. It should be something like: [\"Python\", \"Jupyter Notebook\", \"HTML\"]"
   ]
  },
  {
   "cell_type": "code",
   "execution_count": 32,
   "metadata": {},
   "outputs": [
    {
     "data": {
      "text/plain": [
       "{'AGS Script', 'Jupyter Notebook', None}"
      ]
     },
     "execution_count": 32,
     "metadata": {},
     "output_type": "execute_result"
    }
   ],
   "source": [
    "# your code here\n",
    "forks=pd.DataFrame(results)\n",
    "forks.head(20)\n",
    "set(forks.language)"
   ]
  },
  {
   "cell_type": "markdown",
   "metadata": {},
   "source": [
    "## Challenge 2: Count Commits\n",
    "Count how many commits were made in the month of october of 2018.\n",
    "#### 1. Obtain all the commits made in October 2018 via API, which is a JSON array that contains multiple commit objects."
   ]
  },
  {
   "cell_type": "code",
   "execution_count": 137,
   "metadata": {},
   "outputs": [
    {
     "data": {
      "text/html": [
       "<div>\n",
       "<style scoped>\n",
       "    .dataframe tbody tr th:only-of-type {\n",
       "        vertical-align: middle;\n",
       "    }\n",
       "\n",
       "    .dataframe tbody tr th {\n",
       "        vertical-align: top;\n",
       "    }\n",
       "\n",
       "    .dataframe thead th {\n",
       "        text-align: right;\n",
       "    }\n",
       "</style>\n",
       "<table border=\"1\" class=\"dataframe\">\n",
       "  <thead>\n",
       "    <tr style=\"text-align: right;\">\n",
       "      <th></th>\n",
       "      <th>author.avatar_url</th>\n",
       "      <th>author.events_url</th>\n",
       "      <th>author.followers_url</th>\n",
       "      <th>author.following_url</th>\n",
       "      <th>author.gists_url</th>\n",
       "      <th>author.gravatar_id</th>\n",
       "      <th>author.html_url</th>\n",
       "      <th>author.id</th>\n",
       "      <th>author.login</th>\n",
       "      <th>author.node_id</th>\n",
       "      <th>...</th>\n",
       "      <th>committer.site_admin</th>\n",
       "      <th>committer.starred_url</th>\n",
       "      <th>committer.subscriptions_url</th>\n",
       "      <th>committer.type</th>\n",
       "      <th>committer.url</th>\n",
       "      <th>html_url</th>\n",
       "      <th>node_id</th>\n",
       "      <th>parents</th>\n",
       "      <th>sha</th>\n",
       "      <th>url</th>\n",
       "    </tr>\n",
       "  </thead>\n",
       "  <tbody>\n",
       "    <tr>\n",
       "      <th>0</th>\n",
       "      <td>https://avatars0.githubusercontent.com/u/52278...</td>\n",
       "      <td>https://api.github.com/users/kelsey-ironhack/e...</td>\n",
       "      <td>https://api.github.com/users/kelsey-ironhack/f...</td>\n",
       "      <td>https://api.github.com/users/kelsey-ironhack/f...</td>\n",
       "      <td>https://api.github.com/users/kelsey-ironhack/g...</td>\n",
       "      <td></td>\n",
       "      <td>https://github.com/kelsey-ironhack</td>\n",
       "      <td>52278191</td>\n",
       "      <td>kelsey-ironhack</td>\n",
       "      <td>MDQ6VXNlcjUyMjc4MTkx</td>\n",
       "      <td>...</td>\n",
       "      <td>False</td>\n",
       "      <td>https://api.github.com/users/web-flow/starred{...</td>\n",
       "      <td>https://api.github.com/users/web-flow/subscrip...</td>\n",
       "      <td>User</td>\n",
       "      <td>https://api.github.com/users/web-flow</td>\n",
       "      <td>https://github.com/ironhack-datalabs/dataV2-la...</td>\n",
       "      <td>MDY6Q29tbWl0MjEzNjQxMTcwOjMwNTBiYWFkNGJkZjRlZT...</td>\n",
       "      <td>[{'sha': '680a9ca1cebd77383a8a104ab48c868d1600...</td>\n",
       "      <td>3050baad4bdf4ee65be7b6d56ee4902abf59d5fb</td>\n",
       "      <td>https://api.github.com/repos/ironhack-datalabs...</td>\n",
       "    </tr>\n",
       "    <tr>\n",
       "      <th>1</th>\n",
       "      <td>https://avatars0.githubusercontent.com/u/52278...</td>\n",
       "      <td>https://api.github.com/users/kelsey-ironhack/e...</td>\n",
       "      <td>https://api.github.com/users/kelsey-ironhack/f...</td>\n",
       "      <td>https://api.github.com/users/kelsey-ironhack/f...</td>\n",
       "      <td>https://api.github.com/users/kelsey-ironhack/g...</td>\n",
       "      <td></td>\n",
       "      <td>https://github.com/kelsey-ironhack</td>\n",
       "      <td>52278191</td>\n",
       "      <td>kelsey-ironhack</td>\n",
       "      <td>MDQ6VXNlcjUyMjc4MTkx</td>\n",
       "      <td>...</td>\n",
       "      <td>False</td>\n",
       "      <td>https://api.github.com/users/web-flow/starred{...</td>\n",
       "      <td>https://api.github.com/users/web-flow/subscrip...</td>\n",
       "      <td>User</td>\n",
       "      <td>https://api.github.com/users/web-flow</td>\n",
       "      <td>https://github.com/ironhack-datalabs/dataV2-la...</td>\n",
       "      <td>MDY6Q29tbWl0MjEzNjQxMTcwOjY4MGE5Y2ExY2ViZDc3Mz...</td>\n",
       "      <td>[{'sha': '1421d2b97b1e250bbd1c321e7c38a1ef87fd...</td>\n",
       "      <td>680a9ca1cebd77383a8a104ab48c868d1600790f</td>\n",
       "      <td>https://api.github.com/repos/ironhack-datalabs...</td>\n",
       "    </tr>\n",
       "    <tr>\n",
       "      <th>2</th>\n",
       "      <td>https://avatars0.githubusercontent.com/u/52278...</td>\n",
       "      <td>https://api.github.com/users/kelsey-ironhack/e...</td>\n",
       "      <td>https://api.github.com/users/kelsey-ironhack/f...</td>\n",
       "      <td>https://api.github.com/users/kelsey-ironhack/f...</td>\n",
       "      <td>https://api.github.com/users/kelsey-ironhack/g...</td>\n",
       "      <td></td>\n",
       "      <td>https://github.com/kelsey-ironhack</td>\n",
       "      <td>52278191</td>\n",
       "      <td>kelsey-ironhack</td>\n",
       "      <td>MDQ6VXNlcjUyMjc4MTkx</td>\n",
       "      <td>...</td>\n",
       "      <td>False</td>\n",
       "      <td>https://api.github.com/users/web-flow/starred{...</td>\n",
       "      <td>https://api.github.com/users/web-flow/subscrip...</td>\n",
       "      <td>User</td>\n",
       "      <td>https://api.github.com/users/web-flow</td>\n",
       "      <td>https://github.com/ironhack-datalabs/dataV2-la...</td>\n",
       "      <td>MDY6Q29tbWl0MjEzNjQxMTcwOjE0MjFkMmI5N2IxZTI1MG...</td>\n",
       "      <td>[{'sha': '023a27f4c4bb515a77bfda08f9309c1b1e33...</td>\n",
       "      <td>1421d2b97b1e250bbd1c321e7c38a1ef87fd2c49</td>\n",
       "      <td>https://api.github.com/repos/ironhack-datalabs...</td>\n",
       "    </tr>\n",
       "    <tr>\n",
       "      <th>3</th>\n",
       "      <td>https://avatars1.githubusercontent.com/u/22545...</td>\n",
       "      <td>https://api.github.com/users/kbartonhenry/even...</td>\n",
       "      <td>https://api.github.com/users/kbartonhenry/foll...</td>\n",
       "      <td>https://api.github.com/users/kbartonhenry/foll...</td>\n",
       "      <td>https://api.github.com/users/kbartonhenry/gist...</td>\n",
       "      <td></td>\n",
       "      <td>https://github.com/kbartonhenry</td>\n",
       "      <td>22545329</td>\n",
       "      <td>kbartonhenry</td>\n",
       "      <td>MDQ6VXNlcjIyNTQ1MzI5</td>\n",
       "      <td>...</td>\n",
       "      <td>False</td>\n",
       "      <td>https://api.github.com/users/web-flow/starred{...</td>\n",
       "      <td>https://api.github.com/users/web-flow/subscrip...</td>\n",
       "      <td>User</td>\n",
       "      <td>https://api.github.com/users/web-flow</td>\n",
       "      <td>https://github.com/ironhack-datalabs/dataV2-la...</td>\n",
       "      <td>MDY6Q29tbWl0MjEzNjQxMTcwOjAyM2EyN2Y0YzRiYjUxNW...</td>\n",
       "      <td>[{'sha': '574666b2fc86a71f60f334545fe4d16ab61a...</td>\n",
       "      <td>023a27f4c4bb515a77bfda08f9309c1b1e333e72</td>\n",
       "      <td>https://api.github.com/repos/ironhack-datalabs...</td>\n",
       "    </tr>\n",
       "    <tr>\n",
       "      <th>4</th>\n",
       "      <td>https://avatars1.githubusercontent.com/u/22545...</td>\n",
       "      <td>https://api.github.com/users/kbartonhenry/even...</td>\n",
       "      <td>https://api.github.com/users/kbartonhenry/foll...</td>\n",
       "      <td>https://api.github.com/users/kbartonhenry/foll...</td>\n",
       "      <td>https://api.github.com/users/kbartonhenry/gist...</td>\n",
       "      <td></td>\n",
       "      <td>https://github.com/kbartonhenry</td>\n",
       "      <td>22545329</td>\n",
       "      <td>kbartonhenry</td>\n",
       "      <td>MDQ6VXNlcjIyNTQ1MzI5</td>\n",
       "      <td>...</td>\n",
       "      <td>False</td>\n",
       "      <td>https://api.github.com/users/web-flow/starred{...</td>\n",
       "      <td>https://api.github.com/users/web-flow/subscrip...</td>\n",
       "      <td>User</td>\n",
       "      <td>https://api.github.com/users/web-flow</td>\n",
       "      <td>https://github.com/ironhack-datalabs/dataV2-la...</td>\n",
       "      <td>MDY6Q29tbWl0MjEzNjQxMTcwOjU3NDY2NmIyZmM4NmE3MW...</td>\n",
       "      <td>[{'sha': '6f83d1446dbb6bd600a2082e8147b79e420f...</td>\n",
       "      <td>574666b2fc86a71f60f334545fe4d16ab61ab28f</td>\n",
       "      <td>https://api.github.com/repos/ironhack-datalabs...</td>\n",
       "    </tr>\n",
       "  </tbody>\n",
       "</table>\n",
       "<p>5 rows × 57 columns</p>\n",
       "</div>"
      ],
      "text/plain": [
       "                                   author.avatar_url  \\\n",
       "0  https://avatars0.githubusercontent.com/u/52278...   \n",
       "1  https://avatars0.githubusercontent.com/u/52278...   \n",
       "2  https://avatars0.githubusercontent.com/u/52278...   \n",
       "3  https://avatars1.githubusercontent.com/u/22545...   \n",
       "4  https://avatars1.githubusercontent.com/u/22545...   \n",
       "\n",
       "                                   author.events_url  \\\n",
       "0  https://api.github.com/users/kelsey-ironhack/e...   \n",
       "1  https://api.github.com/users/kelsey-ironhack/e...   \n",
       "2  https://api.github.com/users/kelsey-ironhack/e...   \n",
       "3  https://api.github.com/users/kbartonhenry/even...   \n",
       "4  https://api.github.com/users/kbartonhenry/even...   \n",
       "\n",
       "                                author.followers_url  \\\n",
       "0  https://api.github.com/users/kelsey-ironhack/f...   \n",
       "1  https://api.github.com/users/kelsey-ironhack/f...   \n",
       "2  https://api.github.com/users/kelsey-ironhack/f...   \n",
       "3  https://api.github.com/users/kbartonhenry/foll...   \n",
       "4  https://api.github.com/users/kbartonhenry/foll...   \n",
       "\n",
       "                                author.following_url  \\\n",
       "0  https://api.github.com/users/kelsey-ironhack/f...   \n",
       "1  https://api.github.com/users/kelsey-ironhack/f...   \n",
       "2  https://api.github.com/users/kelsey-ironhack/f...   \n",
       "3  https://api.github.com/users/kbartonhenry/foll...   \n",
       "4  https://api.github.com/users/kbartonhenry/foll...   \n",
       "\n",
       "                                    author.gists_url author.gravatar_id  \\\n",
       "0  https://api.github.com/users/kelsey-ironhack/g...                      \n",
       "1  https://api.github.com/users/kelsey-ironhack/g...                      \n",
       "2  https://api.github.com/users/kelsey-ironhack/g...                      \n",
       "3  https://api.github.com/users/kbartonhenry/gist...                      \n",
       "4  https://api.github.com/users/kbartonhenry/gist...                      \n",
       "\n",
       "                      author.html_url  author.id     author.login  \\\n",
       "0  https://github.com/kelsey-ironhack   52278191  kelsey-ironhack   \n",
       "1  https://github.com/kelsey-ironhack   52278191  kelsey-ironhack   \n",
       "2  https://github.com/kelsey-ironhack   52278191  kelsey-ironhack   \n",
       "3     https://github.com/kbartonhenry   22545329     kbartonhenry   \n",
       "4     https://github.com/kbartonhenry   22545329     kbartonhenry   \n",
       "\n",
       "         author.node_id                        ...                          \\\n",
       "0  MDQ6VXNlcjUyMjc4MTkx                        ...                           \n",
       "1  MDQ6VXNlcjUyMjc4MTkx                        ...                           \n",
       "2  MDQ6VXNlcjUyMjc4MTkx                        ...                           \n",
       "3  MDQ6VXNlcjIyNTQ1MzI5                        ...                           \n",
       "4  MDQ6VXNlcjIyNTQ1MzI5                        ...                           \n",
       "\n",
       "  committer.site_admin                              committer.starred_url  \\\n",
       "0                False  https://api.github.com/users/web-flow/starred{...   \n",
       "1                False  https://api.github.com/users/web-flow/starred{...   \n",
       "2                False  https://api.github.com/users/web-flow/starred{...   \n",
       "3                False  https://api.github.com/users/web-flow/starred{...   \n",
       "4                False  https://api.github.com/users/web-flow/starred{...   \n",
       "\n",
       "                         committer.subscriptions_url  committer.type  \\\n",
       "0  https://api.github.com/users/web-flow/subscrip...            User   \n",
       "1  https://api.github.com/users/web-flow/subscrip...            User   \n",
       "2  https://api.github.com/users/web-flow/subscrip...            User   \n",
       "3  https://api.github.com/users/web-flow/subscrip...            User   \n",
       "4  https://api.github.com/users/web-flow/subscrip...            User   \n",
       "\n",
       "                           committer.url  \\\n",
       "0  https://api.github.com/users/web-flow   \n",
       "1  https://api.github.com/users/web-flow   \n",
       "2  https://api.github.com/users/web-flow   \n",
       "3  https://api.github.com/users/web-flow   \n",
       "4  https://api.github.com/users/web-flow   \n",
       "\n",
       "                                            html_url  \\\n",
       "0  https://github.com/ironhack-datalabs/dataV2-la...   \n",
       "1  https://github.com/ironhack-datalabs/dataV2-la...   \n",
       "2  https://github.com/ironhack-datalabs/dataV2-la...   \n",
       "3  https://github.com/ironhack-datalabs/dataV2-la...   \n",
       "4  https://github.com/ironhack-datalabs/dataV2-la...   \n",
       "\n",
       "                                             node_id  \\\n",
       "0  MDY6Q29tbWl0MjEzNjQxMTcwOjMwNTBiYWFkNGJkZjRlZT...   \n",
       "1  MDY6Q29tbWl0MjEzNjQxMTcwOjY4MGE5Y2ExY2ViZDc3Mz...   \n",
       "2  MDY6Q29tbWl0MjEzNjQxMTcwOjE0MjFkMmI5N2IxZTI1MG...   \n",
       "3  MDY6Q29tbWl0MjEzNjQxMTcwOjAyM2EyN2Y0YzRiYjUxNW...   \n",
       "4  MDY6Q29tbWl0MjEzNjQxMTcwOjU3NDY2NmIyZmM4NmE3MW...   \n",
       "\n",
       "                                             parents  \\\n",
       "0  [{'sha': '680a9ca1cebd77383a8a104ab48c868d1600...   \n",
       "1  [{'sha': '1421d2b97b1e250bbd1c321e7c38a1ef87fd...   \n",
       "2  [{'sha': '023a27f4c4bb515a77bfda08f9309c1b1e33...   \n",
       "3  [{'sha': '574666b2fc86a71f60f334545fe4d16ab61a...   \n",
       "4  [{'sha': '6f83d1446dbb6bd600a2082e8147b79e420f...   \n",
       "\n",
       "                                        sha  \\\n",
       "0  3050baad4bdf4ee65be7b6d56ee4902abf59d5fb   \n",
       "1  680a9ca1cebd77383a8a104ab48c868d1600790f   \n",
       "2  1421d2b97b1e250bbd1c321e7c38a1ef87fd2c49   \n",
       "3  023a27f4c4bb515a77bfda08f9309c1b1e333e72   \n",
       "4  574666b2fc86a71f60f334545fe4d16ab61ab28f   \n",
       "\n",
       "                                                 url  \n",
       "0  https://api.github.com/repos/ironhack-datalabs...  \n",
       "1  https://api.github.com/repos/ironhack-datalabs...  \n",
       "2  https://api.github.com/repos/ironhack-datalabs...  \n",
       "3  https://api.github.com/repos/ironhack-datalabs...  \n",
       "4  https://api.github.com/repos/ironhack-datalabs...  \n",
       "\n",
       "[5 rows x 57 columns]"
      ]
     },
     "execution_count": 137,
     "metadata": {},
     "output_type": "execute_result"
    }
   ],
   "source": [
    "# your code here\n",
    "#DID NOT WORK WITH FOR LOOP\n",
    "#def get(n):\n",
    " #   alles=[]\n",
    "  #  for x in len(n):\n",
    "   #     response(n)=requests.get(\"https://api.github.com/repos/ironhack-datalabs/dataV2-labs/commits?page=\",(n),\"&per_page=100\", auth=(username,token))\n",
    "    #    results(n)=response.json()\n",
    "     #   flat(n)=json_normalize(results(n))\n",
    "      #  commit(n)=pd.DataFrame(flat(n))\n",
    "       # alles.append(commit(n))\n",
    "    #return alles\n",
    "# your code here\n",
    "#AFTER PAGE 2 THE SHAPE FUNCTION SHOWED ME 0 ROWS\n",
    "response1=requests.get(\"https://api.github.com/repos/ironhack-datalabs/dataV2-labs/commits?page=1&per_page=100\", auth=(username,token))\n",
    "response2=requests.get(\"https://api.github.com/repos/ironhack-datalabs/dataV2-labs/commits?page=2&per_page=100\", auth=(username,token))\n",
    "\n",
    "results1=response1.json()\n",
    "results2=response2.json()\n",
    "\n",
    "\n",
    "flat1=json_normalize(results1)\n",
    "flat2=json_normalize(results2)\n",
    "\n",
    "commit1=pd.DataFrame(flat1)\n",
    "commit2=pd.DataFrame(flat2)\n",
    "\n",
    "\n"
   ]
  },
  {
   "cell_type": "markdown",
   "metadata": {},
   "source": [
    "#### 2. Count how many commit objects are contained in the array."
   ]
  },
  {
   "cell_type": "code",
   "execution_count": 157,
   "metadata": {},
   "outputs": [
    {
     "name": "stdout",
     "output_type": "stream",
     "text": [
      "There are 142 commits in october\n"
     ]
    }
   ],
   "source": [
    "commit1.head()\n",
    "commit2.head()\n",
    "commit2.shape\n",
    "#Together.shape should be 148,57\n",
    "together=commit1.append(commit2, ignore_index=True)\n",
    "together.head()\n",
    "together.columns #Find date\n",
    "date=together[\"commit.author.date\"]\n",
    "#print(date)\n",
    "#Only line 0-5 are not in oct 19\n",
    "print(\"There are\",len(date)-6,\"commits in october\")\n",
    "\n"
   ]
  },
  {
   "cell_type": "markdown",
   "metadata": {},
   "source": [
    "## Challenge 3: Hidden Cold Joke\n",
    "\n",
    "Using Python, call Github API to find out the cold joke contained in the 24 secret files in the following repo:\n",
    "\n",
    "https://github.com/ironhack-datalabs/scavenger\n",
    "\n",
    "The filenames of the secret files contain .scavengerhunt and they are scattered in different directories of this repo. The secret files are named from .0001.scavengerhunt to .0024.scavengerhunt. They are scattered randomly throughout this repo. You need to search for these files by calling the Github API, not searching the local files on your computer.\n",
    "\n",
    "#### 1. Find the secret files."
   ]
  },
  {
   "cell_type": "code",
   "execution_count": 7,
   "metadata": {},
   "outputs": [],
   "source": [
    "# your code here\n",
    "#1.Try\n",
    "#response3=requests.get(\"https://api.github.com/repos/ironhack-datalabs/scavenger/contents\")\n",
    "#results3=response3.json()\n",
    "\n",
    "#first=pd.DataFrame(results3)\n",
    "#first.name\n",
    "#Shows the name of the folders in which the secret files are\n",
    "\n",
    "#2.Try\n",
    "#results4 = requests.get('https://api.github.com/search/code?q=extension:scavengerhunt+repo:ironhack-datalabs/scavenger')\n",
    "#3.Try\n",
    "res = requests.get('https://api.github.com/repos/ironhack-datalabs/scavenger/git/trees/master?recursive=1')"
   ]
  },
  {
   "cell_type": "markdown",
   "metadata": {},
   "source": [
    "#### 2.  Sort the filenames ascendingly."
   ]
  },
  {
   "cell_type": "code",
   "execution_count": 10,
   "metadata": {},
   "outputs": [
    {
     "name": "stdout",
     "output_type": "stream",
     "text": [
      "{'sha': '9308ccc8a4c34c5e3a991ee815222a9691c32476', 'url': 'https://api.github.com/repos/ironhack-datalabs/scavenger/git/trees/9308ccc8a4c34c5e3a991ee815222a9691c32476', 'tree': [{'path': '.gitignore', 'mode': '100644', 'type': 'blob', 'sha': 'e43b0f988953ae3a84b00331d0ccf5f7d51cb3cf', 'size': 10, 'url': 'https://api.github.com/repos/ironhack-datalabs/scavenger/git/blobs/e43b0f988953ae3a84b00331d0ccf5f7d51cb3cf'}, {'path': '15024', 'mode': '040000', 'type': 'tree', 'sha': '2945e51c87ad5da893c954afcf092f06343bbb7d', 'url': 'https://api.github.com/repos/ironhack-datalabs/scavenger/git/trees/2945e51c87ad5da893c954afcf092f06343bbb7d'}, {'path': '15024/.0006.scavengerhunt', 'mode': '100644', 'type': 'blob', 'sha': '1c9064284a24b3486015eafdb391b141c27ada2b', 'size': 3, 'url': 'https://api.github.com/repos/ironhack-datalabs/scavenger/git/blobs/1c9064284a24b3486015eafdb391b141c27ada2b'}, {'path': '15024/40', 'mode': '100644', 'type': 'blob', 'sha': 'e69de29bb2d1d6434b8b29ae775ad8c2e48c5391', 'size': 0, 'url': 'https://api.github.com/repos/ironhack-datalabs/scavenger/git/blobs/e69de29bb2d1d6434b8b29ae775ad8c2e48c5391'}, {'path': '15024/74', 'mode': '100644', 'type': 'blob', 'sha': 'e69de29bb2d1d6434b8b29ae775ad8c2e48c5391', 'size': 0, 'url': 'https://api.github.com/repos/ironhack-datalabs/scavenger/git/blobs/e69de29bb2d1d6434b8b29ae775ad8c2e48c5391'}, {'path': '15024/99', 'mode': '100644', 'type': 'blob', 'sha': 'e69de29bb2d1d6434b8b29ae775ad8c2e48c5391', 'size': 0, 'url': 'https://api.github.com/repos/ironhack-datalabs/scavenger/git/blobs/e69de29bb2d1d6434b8b29ae775ad8c2e48c5391'}, {'path': '15534', 'mode': '040000', 'type': 'tree', 'sha': '5af6f2a7287e4191f39e55693fc1e9c8918d1d3a', 'url': 'https://api.github.com/repos/ironhack-datalabs/scavenger/git/trees/5af6f2a7287e4191f39e55693fc1e9c8918d1d3a'}, {'path': '15534/.0008.scavengerhunt', 'mode': '100644', 'type': 'blob', 'sha': 'e351fb73264581ce26504b97ef07daea35116f32', 'size': 6, 'url': 'https://api.github.com/repos/ironhack-datalabs/scavenger/git/blobs/e351fb73264581ce26504b97ef07daea35116f32'}, {'path': '15534/.0012.scavengerhunt', 'mode': '100644', 'type': 'blob', 'sha': '209e3ef4b6247ce746048d5711befda46206d235', 'size': 3, 'url': 'https://api.github.com/repos/ironhack-datalabs/scavenger/git/blobs/209e3ef4b6247ce746048d5711befda46206d235'}, {'path': '15534/2', 'mode': '100644', 'type': 'blob', 'sha': 'e69de29bb2d1d6434b8b29ae775ad8c2e48c5391', 'size': 0, 'url': 'https://api.github.com/repos/ironhack-datalabs/scavenger/git/blobs/e69de29bb2d1d6434b8b29ae775ad8c2e48c5391'}, {'path': '15534/98', 'mode': '100644', 'type': 'blob', 'sha': 'e69de29bb2d1d6434b8b29ae775ad8c2e48c5391', 'size': 0, 'url': 'https://api.github.com/repos/ironhack-datalabs/scavenger/git/blobs/e69de29bb2d1d6434b8b29ae775ad8c2e48c5391'}, {'path': '17020', 'mode': '040000', 'type': 'tree', 'sha': '9c49f920aa4d9433fa99a5824128f0e6b90ec5f2', 'url': 'https://api.github.com/repos/ironhack-datalabs/scavenger/git/trees/9c49f920aa4d9433fa99a5824128f0e6b90ec5f2'}, {'path': '17020/.0007.scavengerhunt', 'mode': '100644', 'type': 'blob', 'sha': '6abb415e0ae3450be0f323113bcca2af195ebbff', 'size': 5, 'url': 'https://api.github.com/repos/ironhack-datalabs/scavenger/git/blobs/6abb415e0ae3450be0f323113bcca2af195ebbff'}, {'path': '17020/46', 'mode': '100644', 'type': 'blob', 'sha': 'e69de29bb2d1d6434b8b29ae775ad8c2e48c5391', 'size': 0, 'url': 'https://api.github.com/repos/ironhack-datalabs/scavenger/git/blobs/e69de29bb2d1d6434b8b29ae775ad8c2e48c5391'}, {'path': '17020/97', 'mode': '100644', 'type': 'blob', 'sha': 'e69de29bb2d1d6434b8b29ae775ad8c2e48c5391', 'size': 0, 'url': 'https://api.github.com/repos/ironhack-datalabs/scavenger/git/blobs/e69de29bb2d1d6434b8b29ae775ad8c2e48c5391'}, {'path': '30351', 'mode': '040000', 'type': 'tree', 'sha': 'c488d7f64088c852e22067d48fdc64ee3670f3ba', 'url': 'https://api.github.com/repos/ironhack-datalabs/scavenger/git/trees/c488d7f64088c852e22067d48fdc64ee3670f3ba'}, {'path': '30351/.0021.scavengerhunt', 'mode': '100644', 'type': 'blob', 'sha': 'fb828e4a926b0a84fc16111fc0ee3eeec41f0ce7', 'size': 5, 'url': 'https://api.github.com/repos/ironhack-datalabs/scavenger/git/blobs/fb828e4a926b0a84fc16111fc0ee3eeec41f0ce7'}, {'path': '30351/22', 'mode': '100644', 'type': 'blob', 'sha': 'e69de29bb2d1d6434b8b29ae775ad8c2e48c5391', 'size': 0, 'url': 'https://api.github.com/repos/ironhack-datalabs/scavenger/git/blobs/e69de29bb2d1d6434b8b29ae775ad8c2e48c5391'}, {'path': '30351/96', 'mode': '100644', 'type': 'blob', 'sha': 'e69de29bb2d1d6434b8b29ae775ad8c2e48c5391', 'size': 0, 'url': 'https://api.github.com/repos/ironhack-datalabs/scavenger/git/blobs/e69de29bb2d1d6434b8b29ae775ad8c2e48c5391'}, {'path': '40303', 'mode': '040000', 'type': 'tree', 'sha': '30193d9cf62b07bcbb6366513ff03596861f2d29', 'url': 'https://api.github.com/repos/ironhack-datalabs/scavenger/git/trees/30193d9cf62b07bcbb6366513ff03596861f2d29'}, {'path': '40303/.0022.scavengerhunt', 'mode': '100644', 'type': 'blob', 'sha': 'bf3efa02f721c40c03a613824e345243a35f6812', 'size': 3, 'url': 'https://api.github.com/repos/ironhack-datalabs/scavenger/git/blobs/bf3efa02f721c40c03a613824e345243a35f6812'}, {'path': '40303/51', 'mode': '100644', 'type': 'blob', 'sha': 'e69de29bb2d1d6434b8b29ae775ad8c2e48c5391', 'size': 0, 'url': 'https://api.github.com/repos/ironhack-datalabs/scavenger/git/blobs/e69de29bb2d1d6434b8b29ae775ad8c2e48c5391'}, {'path': '40303/65', 'mode': '100644', 'type': 'blob', 'sha': 'e69de29bb2d1d6434b8b29ae775ad8c2e48c5391', 'size': 0, 'url': 'https://api.github.com/repos/ironhack-datalabs/scavenger/git/blobs/e69de29bb2d1d6434b8b29ae775ad8c2e48c5391'}, {'path': '44639', 'mode': '040000', 'type': 'tree', 'sha': '22fc3d5c2db80822c351edb2248f3491c8ebda86', 'url': 'https://api.github.com/repos/ironhack-datalabs/scavenger/git/trees/22fc3d5c2db80822c351edb2248f3491c8ebda86'}, {'path': '44639/.0005.scavengerhunt', 'mode': '100644', 'type': 'blob', 'sha': '3aaf448b40f878cf3067e2323616143bdde600de', 'size': 8, 'url': 'https://api.github.com/repos/ironhack-datalabs/scavenger/git/blobs/3aaf448b40f878cf3067e2323616143bdde600de'}, {'path': '44639/76', 'mode': '100644', 'type': 'blob', 'sha': 'e69de29bb2d1d6434b8b29ae775ad8c2e48c5391', 'size': 0, 'url': 'https://api.github.com/repos/ironhack-datalabs/scavenger/git/blobs/e69de29bb2d1d6434b8b29ae775ad8c2e48c5391'}, {'path': '44639/91', 'mode': '100644', 'type': 'blob', 'sha': 'e69de29bb2d1d6434b8b29ae775ad8c2e48c5391', 'size': 0, 'url': 'https://api.github.com/repos/ironhack-datalabs/scavenger/git/blobs/e69de29bb2d1d6434b8b29ae775ad8c2e48c5391'}, {'path': '45525', 'mode': '040000', 'type': 'tree', 'sha': '6a4a88cd9084110c8646c3cfd84dfe96b300a4a7', 'url': 'https://api.github.com/repos/ironhack-datalabs/scavenger/git/trees/6a4a88cd9084110c8646c3cfd84dfe96b300a4a7'}, {'path': '45525/.0018.scavengerhunt', 'mode': '100644', 'type': 'blob', 'sha': '397b22b2dc371e8db59ed327f0b75321e4c0d0f2', 'size': 12, 'url': 'https://api.github.com/repos/ironhack-datalabs/scavenger/git/blobs/397b22b2dc371e8db59ed327f0b75321e4c0d0f2'}, {'path': '45525/67', 'mode': '100644', 'type': 'blob', 'sha': 'e69de29bb2d1d6434b8b29ae775ad8c2e48c5391', 'size': 0, 'url': 'https://api.github.com/repos/ironhack-datalabs/scavenger/git/blobs/e69de29bb2d1d6434b8b29ae775ad8c2e48c5391'}, {'path': '45525/90', 'mode': '100644', 'type': 'blob', 'sha': 'e69de29bb2d1d6434b8b29ae775ad8c2e48c5391', 'size': 0, 'url': 'https://api.github.com/repos/ironhack-datalabs/scavenger/git/blobs/e69de29bb2d1d6434b8b29ae775ad8c2e48c5391'}, {'path': '47222', 'mode': '040000', 'type': 'tree', 'sha': 'c7001604cdadc2fe7b82e0f6996690718cac6941', 'url': 'https://api.github.com/repos/ironhack-datalabs/scavenger/git/trees/c7001604cdadc2fe7b82e0f6996690718cac6941'}, {'path': '47222/.0016.scavengerhunt', 'mode': '100644', 'type': 'blob', 'sha': 'f5cb13223fdc1b11f4cfbbe1694f533b3c579fa0', 'size': 3, 'url': 'https://api.github.com/repos/ironhack-datalabs/scavenger/git/blobs/f5cb13223fdc1b11f4cfbbe1694f533b3c579fa0'}, {'path': '47222/.0024.scavengerhunt', 'mode': '100644', 'type': 'blob', 'sha': '47eb4306e5fec9e051dacabc7039348109784b94', 'size': 6, 'url': 'https://api.github.com/repos/ironhack-datalabs/scavenger/git/blobs/47eb4306e5fec9e051dacabc7039348109784b94'}, {'path': '47222/7', 'mode': '100644', 'type': 'blob', 'sha': 'e69de29bb2d1d6434b8b29ae775ad8c2e48c5391', 'size': 0, 'url': 'https://api.github.com/repos/ironhack-datalabs/scavenger/git/blobs/e69de29bb2d1d6434b8b29ae775ad8c2e48c5391'}, {'path': '47222/89', 'mode': '100644', 'type': 'blob', 'sha': 'e69de29bb2d1d6434b8b29ae775ad8c2e48c5391', 'size': 0, 'url': 'https://api.github.com/repos/ironhack-datalabs/scavenger/git/blobs/e69de29bb2d1d6434b8b29ae775ad8c2e48c5391'}, {'path': '47830', 'mode': '040000', 'type': 'tree', 'sha': 'f84882ad7560fd2b8c6a0867bc707ce9009ef288', 'url': 'https://api.github.com/repos/ironhack-datalabs/scavenger/git/trees/f84882ad7560fd2b8c6a0867bc707ce9009ef288'}, {'path': '47830/.0010.scavengerhunt', 'mode': '100644', 'type': 'blob', 'sha': 'c1187c4badc9be6990570cef850fc87dcf3523b0', 'size': 10, 'url': 'https://api.github.com/repos/ironhack-datalabs/scavenger/git/blobs/c1187c4badc9be6990570cef850fc87dcf3523b0'}, {'path': '47830/66', 'mode': '100644', 'type': 'blob', 'sha': 'e69de29bb2d1d6434b8b29ae775ad8c2e48c5391', 'size': 0, 'url': 'https://api.github.com/repos/ironhack-datalabs/scavenger/git/blobs/e69de29bb2d1d6434b8b29ae775ad8c2e48c5391'}, {'path': '47830/85', 'mode': '100644', 'type': 'blob', 'sha': 'e69de29bb2d1d6434b8b29ae775ad8c2e48c5391', 'size': 0, 'url': 'https://api.github.com/repos/ironhack-datalabs/scavenger/git/blobs/e69de29bb2d1d6434b8b29ae775ad8c2e48c5391'}, {'path': '49418', 'mode': '040000', 'type': 'tree', 'sha': '46bc658c09589d9023246b00e848ce97d30d4989', 'url': 'https://api.github.com/repos/ironhack-datalabs/scavenger/git/trees/46bc658c09589d9023246b00e848ce97d30d4989'}, {'path': '49418/.0014.scavengerhunt', 'mode': '100644', 'type': 'blob', 'sha': '1c9064284a24b3486015eafdb391b141c27ada2b', 'size': 3, 'url': 'https://api.github.com/repos/ironhack-datalabs/scavenger/git/blobs/1c9064284a24b3486015eafdb391b141c27ada2b'}, {'path': '49418/30', 'mode': '100644', 'type': 'blob', 'sha': 'e69de29bb2d1d6434b8b29ae775ad8c2e48c5391', 'size': 0, 'url': 'https://api.github.com/repos/ironhack-datalabs/scavenger/git/blobs/e69de29bb2d1d6434b8b29ae775ad8c2e48c5391'}, {'path': '49418/38', 'mode': '100644', 'type': 'blob', 'sha': 'e69de29bb2d1d6434b8b29ae775ad8c2e48c5391', 'size': 0, 'url': 'https://api.github.com/repos/ironhack-datalabs/scavenger/git/blobs/e69de29bb2d1d6434b8b29ae775ad8c2e48c5391'}, {'path': '49418/84', 'mode': '100644', 'type': 'blob', 'sha': 'e69de29bb2d1d6434b8b29ae775ad8c2e48c5391', 'size': 0, 'url': 'https://api.github.com/repos/ironhack-datalabs/scavenger/git/blobs/e69de29bb2d1d6434b8b29ae775ad8c2e48c5391'}, {'path': '50896', 'mode': '040000', 'type': 'tree', 'sha': 'e47a7a35a19f80694587330c57d94e28d3b4c054', 'url': 'https://api.github.com/repos/ironhack-datalabs/scavenger/git/trees/e47a7a35a19f80694587330c57d94e28d3b4c054'}, {'path': '50896/.0011.scavengerhunt', 'mode': '100644', 'type': 'blob', 'sha': '1a00a70b240d8947af0aaa04f1a93a52c72f7420', 'size': 6, 'url': 'https://api.github.com/repos/ironhack-datalabs/scavenger/git/blobs/1a00a70b240d8947af0aaa04f1a93a52c72f7420'}, {'path': '50896/4', 'mode': '100644', 'type': 'blob', 'sha': 'e69de29bb2d1d6434b8b29ae775ad8c2e48c5391', 'size': 0, 'url': 'https://api.github.com/repos/ironhack-datalabs/scavenger/git/blobs/e69de29bb2d1d6434b8b29ae775ad8c2e48c5391'}, {'path': '50896/83', 'mode': '100644', 'type': 'blob', 'sha': 'e69de29bb2d1d6434b8b29ae775ad8c2e48c5391', 'size': 0, 'url': 'https://api.github.com/repos/ironhack-datalabs/scavenger/git/blobs/e69de29bb2d1d6434b8b29ae775ad8c2e48c5391'}, {'path': '55417', 'mode': '040000', 'type': 'tree', 'sha': '636fa555a2ee752759144a268fd860feb2b6fd2d', 'url': 'https://api.github.com/repos/ironhack-datalabs/scavenger/git/trees/636fa555a2ee752759144a268fd860feb2b6fd2d'}, {'path': '55417/.0023.scavengerhunt', 'mode': '100644', 'type': 'blob', 'sha': '04d0ffb8d895a9e3ee244493e829a24468bd1f60', 'size': 8, 'url': 'https://api.github.com/repos/ironhack-datalabs/scavenger/git/blobs/04d0ffb8d895a9e3ee244493e829a24468bd1f60'}, {'path': '55417/14', 'mode': '100644', 'type': 'blob', 'sha': 'e69de29bb2d1d6434b8b29ae775ad8c2e48c5391', 'size': 0, 'url': 'https://api.github.com/repos/ironhack-datalabs/scavenger/git/blobs/e69de29bb2d1d6434b8b29ae775ad8c2e48c5391'}, {'path': '55417/82', 'mode': '100644', 'type': 'blob', 'sha': 'e69de29bb2d1d6434b8b29ae775ad8c2e48c5391', 'size': 0, 'url': 'https://api.github.com/repos/ironhack-datalabs/scavenger/git/blobs/e69de29bb2d1d6434b8b29ae775ad8c2e48c5391'}, {'path': '55685', 'mode': '040000', 'type': 'tree', 'sha': 'a00a8148a88287508a867616d7063786d3d5d4ff', 'url': 'https://api.github.com/repos/ironhack-datalabs/scavenger/git/trees/a00a8148a88287508a867616d7063786d3d5d4ff'}, {'path': '55685/.0020.scavengerhunt', 'mode': '100644', 'type': 'blob', 'sha': '41d25f51c301c5eee3737998b0d86573e4e91b90', 'size': 4, 'url': 'https://api.github.com/repos/ironhack-datalabs/scavenger/git/blobs/41d25f51c301c5eee3737998b0d86573e4e91b90'}, {'path': '55685/5', 'mode': '100644', 'type': 'blob', 'sha': 'e69de29bb2d1d6434b8b29ae775ad8c2e48c5391', 'size': 0, 'url': 'https://api.github.com/repos/ironhack-datalabs/scavenger/git/blobs/e69de29bb2d1d6434b8b29ae775ad8c2e48c5391'}, {'path': '55685/81', 'mode': '100644', 'type': 'blob', 'sha': 'e69de29bb2d1d6434b8b29ae775ad8c2e48c5391', 'size': 0, 'url': 'https://api.github.com/repos/ironhack-datalabs/scavenger/git/blobs/e69de29bb2d1d6434b8b29ae775ad8c2e48c5391'}, {'path': '60224', 'mode': '040000', 'type': 'tree', 'sha': '28d70fba98bfacfaa5e5544b2eff6b61c9e8f57b', 'url': 'https://api.github.com/repos/ironhack-datalabs/scavenger/git/trees/28d70fba98bfacfaa5e5544b2eff6b61c9e8f57b'}, {'path': '60224/.0003.scavengerhunt', 'mode': '100644', 'type': 'blob', 'sha': 'ba524d7abc4b3a0c0995eb85c9eef470e9e7172f', 'size': 9, 'url': 'https://api.github.com/repos/ironhack-datalabs/scavenger/git/blobs/ba524d7abc4b3a0c0995eb85c9eef470e9e7172f'}, {'path': '60224/1', 'mode': '100644', 'type': 'blob', 'sha': 'e69de29bb2d1d6434b8b29ae775ad8c2e48c5391', 'size': 0, 'url': 'https://api.github.com/repos/ironhack-datalabs/scavenger/git/blobs/e69de29bb2d1d6434b8b29ae775ad8c2e48c5391'}, {'path': '60224/80', 'mode': '100644', 'type': 'blob', 'sha': 'e69de29bb2d1d6434b8b29ae775ad8c2e48c5391', 'size': 0, 'url': 'https://api.github.com/repos/ironhack-datalabs/scavenger/git/blobs/e69de29bb2d1d6434b8b29ae775ad8c2e48c5391'}, {'path': '64880', 'mode': '040000', 'type': 'tree', 'sha': '88b159d6f73378e6968bb35ccfd8e3ad0cc462d2', 'url': 'https://api.github.com/repos/ironhack-datalabs/scavenger/git/trees/88b159d6f73378e6968bb35ccfd8e3ad0cc462d2'}, {'path': '64880/3', 'mode': '100644', 'type': 'blob', 'sha': 'e69de29bb2d1d6434b8b29ae775ad8c2e48c5391', 'size': 0, 'url': 'https://api.github.com/repos/ironhack-datalabs/scavenger/git/blobs/e69de29bb2d1d6434b8b29ae775ad8c2e48c5391'}, {'path': '64880/57', 'mode': '100644', 'type': 'blob', 'sha': 'e69de29bb2d1d6434b8b29ae775ad8c2e48c5391', 'size': 0, 'url': 'https://api.github.com/repos/ironhack-datalabs/scavenger/git/blobs/e69de29bb2d1d6434b8b29ae775ad8c2e48c5391'}, {'path': '64880/79', 'mode': '100644', 'type': 'blob', 'sha': 'e69de29bb2d1d6434b8b29ae775ad8c2e48c5391', 'size': 0, 'url': 'https://api.github.com/repos/ironhack-datalabs/scavenger/git/blobs/e69de29bb2d1d6434b8b29ae775ad8c2e48c5391'}, {'path': '66032', 'mode': '040000', 'type': 'tree', 'sha': '0230fa6fa1ccf49ab976fbbfc9eb838094779785', 'url': 'https://api.github.com/repos/ironhack-datalabs/scavenger/git/trees/0230fa6fa1ccf49ab976fbbfc9eb838094779785'}, {'path': '66032/28', 'mode': '100644', 'type': 'blob', 'sha': 'e69de29bb2d1d6434b8b29ae775ad8c2e48c5391', 'size': 0, 'url': 'https://api.github.com/repos/ironhack-datalabs/scavenger/git/blobs/e69de29bb2d1d6434b8b29ae775ad8c2e48c5391'}, {'path': '66032/47', 'mode': '100644', 'type': 'blob', 'sha': 'e69de29bb2d1d6434b8b29ae775ad8c2e48c5391', 'size': 0, 'url': 'https://api.github.com/repos/ironhack-datalabs/scavenger/git/blobs/e69de29bb2d1d6434b8b29ae775ad8c2e48c5391'}, {'path': '66032/77', 'mode': '100644', 'type': 'blob', 'sha': 'e69de29bb2d1d6434b8b29ae775ad8c2e48c5391', 'size': 0, 'url': 'https://api.github.com/repos/ironhack-datalabs/scavenger/git/blobs/e69de29bb2d1d6434b8b29ae775ad8c2e48c5391'}, {'path': '68848', 'mode': '040000', 'type': 'tree', 'sha': 'ed2f90be6835e7e74c283aedba1942b788754d32', 'url': 'https://api.github.com/repos/ironhack-datalabs/scavenger/git/trees/ed2f90be6835e7e74c283aedba1942b788754d32'}, {'path': '68848/.0004.scavengerhunt', 'mode': '100644', 'type': 'blob', 'sha': 'd15a2cc44e31b14c65264271b81072e5ba0e1634', 'size': 3, 'url': 'https://api.github.com/repos/ironhack-datalabs/scavenger/git/blobs/d15a2cc44e31b14c65264271b81072e5ba0e1634'}, {'path': '68848/16', 'mode': '100644', 'type': 'blob', 'sha': 'e69de29bb2d1d6434b8b29ae775ad8c2e48c5391', 'size': 0, 'url': 'https://api.github.com/repos/ironhack-datalabs/scavenger/git/blobs/e69de29bb2d1d6434b8b29ae775ad8c2e48c5391'}, {'path': '68848/75', 'mode': '100644', 'type': 'blob', 'sha': 'e69de29bb2d1d6434b8b29ae775ad8c2e48c5391', 'size': 0, 'url': 'https://api.github.com/repos/ironhack-datalabs/scavenger/git/blobs/e69de29bb2d1d6434b8b29ae775ad8c2e48c5391'}, {'path': '70751', 'mode': '040000', 'type': 'tree', 'sha': 'a5d9391003b67cecf3c336398ec38cfa75a689b7', 'url': 'https://api.github.com/repos/ironhack-datalabs/scavenger/git/trees/a5d9391003b67cecf3c336398ec38cfa75a689b7'}, {'path': '70751/.0019.scavengerhunt', 'mode': '100644', 'type': 'blob', 'sha': '09e16f36b3c4993ba924b1074629283a49869be9', 'size': 6, 'url': 'https://api.github.com/repos/ironhack-datalabs/scavenger/git/blobs/09e16f36b3c4993ba924b1074629283a49869be9'}, {'path': '70751/18', 'mode': '100644', 'type': 'blob', 'sha': 'e69de29bb2d1d6434b8b29ae775ad8c2e48c5391', 'size': 0, 'url': 'https://api.github.com/repos/ironhack-datalabs/scavenger/git/blobs/e69de29bb2d1d6434b8b29ae775ad8c2e48c5391'}, {'path': '70751/44', 'mode': '100644', 'type': 'blob', 'sha': 'e69de29bb2d1d6434b8b29ae775ad8c2e48c5391', 'size': 0, 'url': 'https://api.github.com/repos/ironhack-datalabs/scavenger/git/blobs/e69de29bb2d1d6434b8b29ae775ad8c2e48c5391'}, {'path': '70751/68', 'mode': '100644', 'type': 'blob', 'sha': 'e69de29bb2d1d6434b8b29ae775ad8c2e48c5391', 'size': 0, 'url': 'https://api.github.com/repos/ironhack-datalabs/scavenger/git/blobs/e69de29bb2d1d6434b8b29ae775ad8c2e48c5391'}, {'path': '70985', 'mode': '040000', 'type': 'tree', 'sha': 'd1a654c5811f52ec8a101652b0a04367644eab99', 'url': 'https://api.github.com/repos/ironhack-datalabs/scavenger/git/trees/d1a654c5811f52ec8a101652b0a04367644eab99'}, {'path': '70985/.0017.scavengerhunt', 'mode': '100644', 'type': 'blob', 'sha': 'e351fb73264581ce26504b97ef07daea35116f32', 'size': 6, 'url': 'https://api.github.com/repos/ironhack-datalabs/scavenger/git/blobs/e351fb73264581ce26504b97ef07daea35116f32'}, {'path': '70985/11', 'mode': '100644', 'type': 'blob', 'sha': 'e69de29bb2d1d6434b8b29ae775ad8c2e48c5391', 'size': 0, 'url': 'https://api.github.com/repos/ironhack-datalabs/scavenger/git/blobs/e69de29bb2d1d6434b8b29ae775ad8c2e48c5391'}, {'path': '70985/59', 'mode': '100644', 'type': 'blob', 'sha': 'e69de29bb2d1d6434b8b29ae775ad8c2e48c5391', 'size': 0, 'url': 'https://api.github.com/repos/ironhack-datalabs/scavenger/git/blobs/e69de29bb2d1d6434b8b29ae775ad8c2e48c5391'}, {'path': '88596', 'mode': '040000', 'type': 'tree', 'sha': 'f294d2a0e55a4bab12625a7f709b44450a5e4648', 'url': 'https://api.github.com/repos/ironhack-datalabs/scavenger/git/trees/f294d2a0e55a4bab12625a7f709b44450a5e4648'}, {'path': '88596/.0002.scavengerhunt', 'mode': '100644', 'type': 'blob', 'sha': '1269488f7fb1f4b56a8c0e5eb48cecbfadfa9219', 'size': 5, 'url': 'https://api.github.com/repos/ironhack-datalabs/scavenger/git/blobs/1269488f7fb1f4b56a8c0e5eb48cecbfadfa9219'}, {'path': '88596/12', 'mode': '100644', 'type': 'blob', 'sha': 'e69de29bb2d1d6434b8b29ae775ad8c2e48c5391', 'size': 0, 'url': 'https://api.github.com/repos/ironhack-datalabs/scavenger/git/blobs/e69de29bb2d1d6434b8b29ae775ad8c2e48c5391'}, {'path': '88596/32', 'mode': '100644', 'type': 'blob', 'sha': 'e69de29bb2d1d6434b8b29ae775ad8c2e48c5391', 'size': 0, 'url': 'https://api.github.com/repos/ironhack-datalabs/scavenger/git/blobs/e69de29bb2d1d6434b8b29ae775ad8c2e48c5391'}, {'path': '88596/55', 'mode': '100644', 'type': 'blob', 'sha': 'e69de29bb2d1d6434b8b29ae775ad8c2e48c5391', 'size': 0, 'url': 'https://api.github.com/repos/ironhack-datalabs/scavenger/git/blobs/e69de29bb2d1d6434b8b29ae775ad8c2e48c5391'}, {'path': '89046', 'mode': '040000', 'type': 'tree', 'sha': '5f3ef5f14cf72bbe03a24b69777ba02f19a3adb5', 'url': 'https://api.github.com/repos/ironhack-datalabs/scavenger/git/trees/5f3ef5f14cf72bbe03a24b69777ba02f19a3adb5'}, {'path': '89046/64', 'mode': '100644', 'type': 'blob', 'sha': 'e69de29bb2d1d6434b8b29ae775ad8c2e48c5391', 'size': 0, 'url': 'https://api.github.com/repos/ironhack-datalabs/scavenger/git/blobs/e69de29bb2d1d6434b8b29ae775ad8c2e48c5391'}, {'path': '89046/70', 'mode': '100644', 'type': 'blob', 'sha': 'e69de29bb2d1d6434b8b29ae775ad8c2e48c5391', 'size': 0, 'url': 'https://api.github.com/repos/ironhack-datalabs/scavenger/git/blobs/e69de29bb2d1d6434b8b29ae775ad8c2e48c5391'}, {'path': '89046/73', 'mode': '100644', 'type': 'blob', 'sha': 'e69de29bb2d1d6434b8b29ae775ad8c2e48c5391', 'size': 0, 'url': 'https://api.github.com/repos/ironhack-datalabs/scavenger/git/blobs/e69de29bb2d1d6434b8b29ae775ad8c2e48c5391'}, {'path': '89338', 'mode': '040000', 'type': 'tree', 'sha': '79c94a4032a927b2af52cc6da4ce27eb2abbf55e', 'url': 'https://api.github.com/repos/ironhack-datalabs/scavenger/git/trees/79c94a4032a927b2af52cc6da4ce27eb2abbf55e'}, {'path': '89338/.0013.scavengerhunt', 'mode': '100644', 'type': 'blob', 'sha': '3aaf448b40f878cf3067e2323616143bdde600de', 'size': 8, 'url': 'https://api.github.com/repos/ironhack-datalabs/scavenger/git/blobs/3aaf448b40f878cf3067e2323616143bdde600de'}, {'path': '89338/35', 'mode': '100644', 'type': 'blob', 'sha': 'e69de29bb2d1d6434b8b29ae775ad8c2e48c5391', 'size': 0, 'url': 'https://api.github.com/repos/ironhack-datalabs/scavenger/git/blobs/e69de29bb2d1d6434b8b29ae775ad8c2e48c5391'}, {'path': '89338/43', 'mode': '100644', 'type': 'blob', 'sha': 'e69de29bb2d1d6434b8b29ae775ad8c2e48c5391', 'size': 0, 'url': 'https://api.github.com/repos/ironhack-datalabs/scavenger/git/blobs/e69de29bb2d1d6434b8b29ae775ad8c2e48c5391'}, {'path': '89338/8', 'mode': '100644', 'type': 'blob', 'sha': 'e69de29bb2d1d6434b8b29ae775ad8c2e48c5391', 'size': 0, 'url': 'https://api.github.com/repos/ironhack-datalabs/scavenger/git/blobs/e69de29bb2d1d6434b8b29ae775ad8c2e48c5391'}, {'path': '91701', 'mode': '040000', 'type': 'tree', 'sha': '0ad19115f0b56c3cd10cb7e077140c201b527301', 'url': 'https://api.github.com/repos/ironhack-datalabs/scavenger/git/trees/0ad19115f0b56c3cd10cb7e077140c201b527301'}, {'path': '91701/.0015.scavengerhunt', 'mode': '100644', 'type': 'blob', 'sha': '6abb415e0ae3450be0f323113bcca2af195ebbff', 'size': 5, 'url': 'https://api.github.com/repos/ironhack-datalabs/scavenger/git/blobs/6abb415e0ae3450be0f323113bcca2af195ebbff'}, {'path': '91701/33', 'mode': '100644', 'type': 'blob', 'sha': 'e69de29bb2d1d6434b8b29ae775ad8c2e48c5391', 'size': 0, 'url': 'https://api.github.com/repos/ironhack-datalabs/scavenger/git/blobs/e69de29bb2d1d6434b8b29ae775ad8c2e48c5391'}, {'path': '91701/39', 'mode': '100644', 'type': 'blob', 'sha': 'e69de29bb2d1d6434b8b29ae775ad8c2e48c5391', 'size': 0, 'url': 'https://api.github.com/repos/ironhack-datalabs/scavenger/git/blobs/e69de29bb2d1d6434b8b29ae775ad8c2e48c5391'}, {'path': '97881', 'mode': '040000', 'type': 'tree', 'sha': 'c369c43c17ec44cc3e66dd27f8e557f9d15d40f4', 'url': 'https://api.github.com/repos/ironhack-datalabs/scavenger/git/trees/c369c43c17ec44cc3e66dd27f8e557f9d15d40f4'}, {'path': '97881/.0009.scavengerhunt', 'mode': '100644', 'type': 'blob', 'sha': 'f5cb13223fdc1b11f4cfbbe1694f533b3c579fa0', 'size': 3, 'url': 'https://api.github.com/repos/ironhack-datalabs/scavenger/git/blobs/f5cb13223fdc1b11f4cfbbe1694f533b3c579fa0'}, {'path': '97881/26', 'mode': '100644', 'type': 'blob', 'sha': 'e69de29bb2d1d6434b8b29ae775ad8c2e48c5391', 'size': 0, 'url': 'https://api.github.com/repos/ironhack-datalabs/scavenger/git/blobs/e69de29bb2d1d6434b8b29ae775ad8c2e48c5391'}, {'path': '97881/36', 'mode': '100644', 'type': 'blob', 'sha': 'e69de29bb2d1d6434b8b29ae775ad8c2e48c5391', 'size': 0, 'url': 'https://api.github.com/repos/ironhack-datalabs/scavenger/git/blobs/e69de29bb2d1d6434b8b29ae775ad8c2e48c5391'}, {'path': '97881/71', 'mode': '100644', 'type': 'blob', 'sha': 'e69de29bb2d1d6434b8b29ae775ad8c2e48c5391', 'size': 0, 'url': 'https://api.github.com/repos/ironhack-datalabs/scavenger/git/blobs/e69de29bb2d1d6434b8b29ae775ad8c2e48c5391'}, {'path': '98750', 'mode': '040000', 'type': 'tree', 'sha': 'cdc23915e0a5179127458431986ba3750840a924', 'url': 'https://api.github.com/repos/ironhack-datalabs/scavenger/git/trees/cdc23915e0a5179127458431986ba3750840a924'}, {'path': '98750/.0001.scavengerhunt', 'mode': '100644', 'type': 'blob', 'sha': '2add7632f1323136324efbf38ec66db1838b6173', 'size': 3, 'url': 'https://api.github.com/repos/ironhack-datalabs/scavenger/git/blobs/2add7632f1323136324efbf38ec66db1838b6173'}, {'path': '98750/20', 'mode': '100644', 'type': 'blob', 'sha': 'e69de29bb2d1d6434b8b29ae775ad8c2e48c5391', 'size': 0, 'url': 'https://api.github.com/repos/ironhack-datalabs/scavenger/git/blobs/e69de29bb2d1d6434b8b29ae775ad8c2e48c5391'}, {'path': '98750/62', 'mode': '100644', 'type': 'blob', 'sha': 'e69de29bb2d1d6434b8b29ae775ad8c2e48c5391', 'size': 0, 'url': 'https://api.github.com/repos/ironhack-datalabs/scavenger/git/blobs/e69de29bb2d1d6434b8b29ae775ad8c2e48c5391'}], 'truncated': False}\n"
     ]
    }
   ],
   "source": [
    "result=res.json()\n",
    "new=result\n",
    "\n",
    "\n"
   ]
  },
  {
   "cell_type": "markdown",
   "metadata": {},
   "source": [
    "#### 3. Read the content of each secret files into an array of strings.\n",
    "Since the response is encoded, you will need to send the following information in the header of your request:\n",
    "````python\n",
    "headers = {'Accept': 'application/vnd.github.v3.raw'}\n",
    "````"
   ]
  },
  {
   "cell_type": "code",
   "execution_count": null,
   "metadata": {},
   "outputs": [],
   "source": [
    "# your code here"
   ]
  },
  {
   "cell_type": "markdown",
   "metadata": {},
   "source": [
    "#### 4. Concatenate the strings in the array separating each two with a whitespace."
   ]
  },
  {
   "cell_type": "code",
   "execution_count": 136,
   "metadata": {},
   "outputs": [
    {
     "data": {
      "text/plain": [
       "(48, 57)"
      ]
     },
     "execution_count": 136,
     "metadata": {},
     "output_type": "execute_result"
    }
   ],
   "source": [
    "# your code here\n"
   ]
  },
  {
   "cell_type": "markdown",
   "metadata": {},
   "source": [
    "#### 5. Print out the joke."
   ]
  },
  {
   "cell_type": "code",
   "execution_count": null,
   "metadata": {},
   "outputs": [],
   "source": []
  }
 ],
 "metadata": {
  "kernelspec": {
   "display_name": "Python 3",
   "language": "python",
   "name": "python3"
  },
  "language_info": {
   "codemirror_mode": {
    "name": "ipython",
    "version": 3
   },
   "file_extension": ".py",
   "mimetype": "text/x-python",
   "name": "python",
   "nbconvert_exporter": "python",
   "pygments_lexer": "ipython3",
   "version": "3.7.0"
  }
 },
 "nbformat": 4,
 "nbformat_minor": 2
}
