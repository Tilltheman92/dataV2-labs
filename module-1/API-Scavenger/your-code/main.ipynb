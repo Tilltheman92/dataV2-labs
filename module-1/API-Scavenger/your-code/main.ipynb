{
 "cells": [
  {
   "cell_type": "markdown",
   "metadata": {},
   "source": [
    "# API Scavenger Game\n",
    "\n",
    "## Challenge 1: Fork Languages\n",
    "\n",
    "You will find out how many programming languages are used among all the forks created from the main lab repo of your bootcamp."
   ]
  },
  {
   "cell_type": "code",
   "execution_count": 125,
   "metadata": {},
   "outputs": [],
   "source": [
    "# import libraries here\n",
    "import json\n",
    "import requests\n",
    "import pandas as pd\n",
    "from pandas.io.json import json_normalize\n",
    "import numpy as np\n",
    "\n",
    "username = 'Tilltheman92'\n",
    "token = 'xxx'\n",
    "#auth=(username,token))\n"
   ]
  },
  {
   "cell_type": "markdown",
   "metadata": {},
   "source": [
    "Assuming the main lab repo is ironhack-datalabs/madrid-oct-2018, you will:\n",
    "\n",
    "#### 1. Obtain the full list of forks created from the main lab repo via Github API."
   ]
  },
  {
   "cell_type": "markdown",
   "metadata": {},
   "source": [
    "To list forks, we can use the GET method. As explained in the GitHub API documentation, we need to make the request to: GET /repos/:owner/:repo/forks."
   ]
  },
  {
   "cell_type": "code",
   "execution_count": 31,
   "metadata": {},
   "outputs": [],
   "source": [
    "# your code here\n",
    "response=requests.get(\"https://api.github.com/repos/ironhack-datalabs/dataV2-labs/forks?page=(1&2)&per_page=100\")\n",
    "results=response.json()\n"
   ]
  },
  {
   "cell_type": "markdown",
   "metadata": {},
   "source": [
    "#### 2. Loop the JSON response to find out the language attribute of each fork. Use an array to store the language attributes of each fork.\n",
    "Hint: Each language should appear only once in your array.\n",
    "Print the language array. It should be something like: [\"Python\", \"Jupyter Notebook\", \"HTML\"]"
   ]
  },
  {
   "cell_type": "code",
   "execution_count": 32,
   "metadata": {},
   "outputs": [
    {
     "data": {
      "text/plain": [
       "{'AGS Script', 'Jupyter Notebook', None}"
      ]
     },
     "execution_count": 32,
     "metadata": {},
     "output_type": "execute_result"
    }
   ],
   "source": [
    "# your code here\n",
    "forks=pd.DataFrame(results)\n",
    "forks.head(20)\n",
    "set(forks.language)"
   ]
  },
  {
   "cell_type": "markdown",
   "metadata": {},
   "source": [
    "## Challenge 2: Count Commits\n",
    "Count how many commits were made in the month of october of 2018.\n",
    "#### 1. Obtain all the commits made in October 2018 via API, which is a JSON array that contains multiple commit objects."
   ]
  },
  {
   "cell_type": "code",
   "execution_count": 137,
   "metadata": {},
   "outputs": [
    {
     "data": {
      "text/html": [
       "<div>\n",
       "<style scoped>\n",
       "    .dataframe tbody tr th:only-of-type {\n",
       "        vertical-align: middle;\n",
       "    }\n",
       "\n",
       "    .dataframe tbody tr th {\n",
       "        vertical-align: top;\n",
       "    }\n",
       "\n",
       "    .dataframe thead th {\n",
       "        text-align: right;\n",
       "    }\n",
       "</style>\n",
       "<table border=\"1\" class=\"dataframe\">\n",
       "  <thead>\n",
       "    <tr style=\"text-align: right;\">\n",
       "      <th></th>\n",
       "      <th>author.avatar_url</th>\n",
       "      <th>author.events_url</th>\n",
       "      <th>author.followers_url</th>\n",
       "      <th>author.following_url</th>\n",
       "      <th>author.gists_url</th>\n",
       "      <th>author.gravatar_id</th>\n",
       "      <th>author.html_url</th>\n",
       "      <th>author.id</th>\n",
       "      <th>author.login</th>\n",
       "      <th>author.node_id</th>\n",
       "      <th>...</th>\n",
       "      <th>committer.site_admin</th>\n",
       "      <th>committer.starred_url</th>\n",
       "      <th>committer.subscriptions_url</th>\n",
       "      <th>committer.type</th>\n",
       "      <th>committer.url</th>\n",
       "      <th>html_url</th>\n",
       "      <th>node_id</th>\n",
       "      <th>parents</th>\n",
       "      <th>sha</th>\n",
       "      <th>url</th>\n",
       "    </tr>\n",
       "  </thead>\n",
       "  <tbody>\n",
       "    <tr>\n",
       "      <th>0</th>\n",
       "      <td>https://avatars0.githubusercontent.com/u/52278...</td>\n",
       "      <td>https://api.github.com/users/kelsey-ironhack/e...</td>\n",
       "      <td>https://api.github.com/users/kelsey-ironhack/f...</td>\n",
       "      <td>https://api.github.com/users/kelsey-ironhack/f...</td>\n",
       "      <td>https://api.github.com/users/kelsey-ironhack/g...</td>\n",
       "      <td></td>\n",
       "      <td>https://github.com/kelsey-ironhack</td>\n",
       "      <td>52278191</td>\n",
       "      <td>kelsey-ironhack</td>\n",
       "      <td>MDQ6VXNlcjUyMjc4MTkx</td>\n",
       "      <td>...</td>\n",
       "      <td>False</td>\n",
       "      <td>https://api.github.com/users/web-flow/starred{...</td>\n",
       "      <td>https://api.github.com/users/web-flow/subscrip...</td>\n",
       "      <td>User</td>\n",
       "      <td>https://api.github.com/users/web-flow</td>\n",
       "      <td>https://github.com/ironhack-datalabs/dataV2-la...</td>\n",
       "      <td>MDY6Q29tbWl0MjEzNjQxMTcwOjMwNTBiYWFkNGJkZjRlZT...</td>\n",
       "      <td>[{'sha': '680a9ca1cebd77383a8a104ab48c868d1600...</td>\n",
       "      <td>3050baad4bdf4ee65be7b6d56ee4902abf59d5fb</td>\n",
       "      <td>https://api.github.com/repos/ironhack-datalabs...</td>\n",
       "    </tr>\n",
       "    <tr>\n",
       "      <th>1</th>\n",
       "      <td>https://avatars0.githubusercontent.com/u/52278...</td>\n",
       "      <td>https://api.github.com/users/kelsey-ironhack/e...</td>\n",
       "      <td>https://api.github.com/users/kelsey-ironhack/f...</td>\n",
       "      <td>https://api.github.com/users/kelsey-ironhack/f...</td>\n",
       "      <td>https://api.github.com/users/kelsey-ironhack/g...</td>\n",
       "      <td></td>\n",
       "      <td>https://github.com/kelsey-ironhack</td>\n",
       "      <td>52278191</td>\n",
       "      <td>kelsey-ironhack</td>\n",
       "      <td>MDQ6VXNlcjUyMjc4MTkx</td>\n",
       "      <td>...</td>\n",
       "      <td>False</td>\n",
       "      <td>https://api.github.com/users/web-flow/starred{...</td>\n",
       "      <td>https://api.github.com/users/web-flow/subscrip...</td>\n",
       "      <td>User</td>\n",
       "      <td>https://api.github.com/users/web-flow</td>\n",
       "      <td>https://github.com/ironhack-datalabs/dataV2-la...</td>\n",
       "      <td>MDY6Q29tbWl0MjEzNjQxMTcwOjY4MGE5Y2ExY2ViZDc3Mz...</td>\n",
       "      <td>[{'sha': '1421d2b97b1e250bbd1c321e7c38a1ef87fd...</td>\n",
       "      <td>680a9ca1cebd77383a8a104ab48c868d1600790f</td>\n",
       "      <td>https://api.github.com/repos/ironhack-datalabs...</td>\n",
       "    </tr>\n",
       "    <tr>\n",
       "      <th>2</th>\n",
       "      <td>https://avatars0.githubusercontent.com/u/52278...</td>\n",
       "      <td>https://api.github.com/users/kelsey-ironhack/e...</td>\n",
       "      <td>https://api.github.com/users/kelsey-ironhack/f...</td>\n",
       "      <td>https://api.github.com/users/kelsey-ironhack/f...</td>\n",
       "      <td>https://api.github.com/users/kelsey-ironhack/g...</td>\n",
       "      <td></td>\n",
       "      <td>https://github.com/kelsey-ironhack</td>\n",
       "      <td>52278191</td>\n",
       "      <td>kelsey-ironhack</td>\n",
       "      <td>MDQ6VXNlcjUyMjc4MTkx</td>\n",
       "      <td>...</td>\n",
       "      <td>False</td>\n",
       "      <td>https://api.github.com/users/web-flow/starred{...</td>\n",
       "      <td>https://api.github.com/users/web-flow/subscrip...</td>\n",
       "      <td>User</td>\n",
       "      <td>https://api.github.com/users/web-flow</td>\n",
       "      <td>https://github.com/ironhack-datalabs/dataV2-la...</td>\n",
       "      <td>MDY6Q29tbWl0MjEzNjQxMTcwOjE0MjFkMmI5N2IxZTI1MG...</td>\n",
       "      <td>[{'sha': '023a27f4c4bb515a77bfda08f9309c1b1e33...</td>\n",
       "      <td>1421d2b97b1e250bbd1c321e7c38a1ef87fd2c49</td>\n",
       "      <td>https://api.github.com/repos/ironhack-datalabs...</td>\n",
       "    </tr>\n",
       "    <tr>\n",
       "      <th>3</th>\n",
       "      <td>https://avatars1.githubusercontent.com/u/22545...</td>\n",
       "      <td>https://api.github.com/users/kbartonhenry/even...</td>\n",
       "      <td>https://api.github.com/users/kbartonhenry/foll...</td>\n",
       "      <td>https://api.github.com/users/kbartonhenry/foll...</td>\n",
       "      <td>https://api.github.com/users/kbartonhenry/gist...</td>\n",
       "      <td></td>\n",
       "      <td>https://github.com/kbartonhenry</td>\n",
       "      <td>22545329</td>\n",
       "      <td>kbartonhenry</td>\n",
       "      <td>MDQ6VXNlcjIyNTQ1MzI5</td>\n",
       "      <td>...</td>\n",
       "      <td>False</td>\n",
       "      <td>https://api.github.com/users/web-flow/starred{...</td>\n",
       "      <td>https://api.github.com/users/web-flow/subscrip...</td>\n",
       "      <td>User</td>\n",
       "      <td>https://api.github.com/users/web-flow</td>\n",
       "      <td>https://github.com/ironhack-datalabs/dataV2-la...</td>\n",
       "      <td>MDY6Q29tbWl0MjEzNjQxMTcwOjAyM2EyN2Y0YzRiYjUxNW...</td>\n",
       "      <td>[{'sha': '574666b2fc86a71f60f334545fe4d16ab61a...</td>\n",
       "      <td>023a27f4c4bb515a77bfda08f9309c1b1e333e72</td>\n",
       "      <td>https://api.github.com/repos/ironhack-datalabs...</td>\n",
       "    </tr>\n",
       "    <tr>\n",
       "      <th>4</th>\n",
       "      <td>https://avatars1.githubusercontent.com/u/22545...</td>\n",
       "      <td>https://api.github.com/users/kbartonhenry/even...</td>\n",
       "      <td>https://api.github.com/users/kbartonhenry/foll...</td>\n",
       "      <td>https://api.github.com/users/kbartonhenry/foll...</td>\n",
       "      <td>https://api.github.com/users/kbartonhenry/gist...</td>\n",
       "      <td></td>\n",
       "      <td>https://github.com/kbartonhenry</td>\n",
       "      <td>22545329</td>\n",
       "      <td>kbartonhenry</td>\n",
       "      <td>MDQ6VXNlcjIyNTQ1MzI5</td>\n",
       "      <td>...</td>\n",
       "      <td>False</td>\n",
       "      <td>https://api.github.com/users/web-flow/starred{...</td>\n",
       "      <td>https://api.github.com/users/web-flow/subscrip...</td>\n",
       "      <td>User</td>\n",
       "      <td>https://api.github.com/users/web-flow</td>\n",
       "      <td>https://github.com/ironhack-datalabs/dataV2-la...</td>\n",
       "      <td>MDY6Q29tbWl0MjEzNjQxMTcwOjU3NDY2NmIyZmM4NmE3MW...</td>\n",
       "      <td>[{'sha': '6f83d1446dbb6bd600a2082e8147b79e420f...</td>\n",
       "      <td>574666b2fc86a71f60f334545fe4d16ab61ab28f</td>\n",
       "      <td>https://api.github.com/repos/ironhack-datalabs...</td>\n",
       "    </tr>\n",
       "  </tbody>\n",
       "</table>\n",
       "<p>5 rows × 57 columns</p>\n",
       "</div>"
      ],
      "text/plain": [
       "                                   author.avatar_url  \\\n",
       "0  https://avatars0.githubusercontent.com/u/52278...   \n",
       "1  https://avatars0.githubusercontent.com/u/52278...   \n",
       "2  https://avatars0.githubusercontent.com/u/52278...   \n",
       "3  https://avatars1.githubusercontent.com/u/22545...   \n",
       "4  https://avatars1.githubusercontent.com/u/22545...   \n",
       "\n",
       "                                   author.events_url  \\\n",
       "0  https://api.github.com/users/kelsey-ironhack/e...   \n",
       "1  https://api.github.com/users/kelsey-ironhack/e...   \n",
       "2  https://api.github.com/users/kelsey-ironhack/e...   \n",
       "3  https://api.github.com/users/kbartonhenry/even...   \n",
       "4  https://api.github.com/users/kbartonhenry/even...   \n",
       "\n",
       "                                author.followers_url  \\\n",
       "0  https://api.github.com/users/kelsey-ironhack/f...   \n",
       "1  https://api.github.com/users/kelsey-ironhack/f...   \n",
       "2  https://api.github.com/users/kelsey-ironhack/f...   \n",
       "3  https://api.github.com/users/kbartonhenry/foll...   \n",
       "4  https://api.github.com/users/kbartonhenry/foll...   \n",
       "\n",
       "                                author.following_url  \\\n",
       "0  https://api.github.com/users/kelsey-ironhack/f...   \n",
       "1  https://api.github.com/users/kelsey-ironhack/f...   \n",
       "2  https://api.github.com/users/kelsey-ironhack/f...   \n",
       "3  https://api.github.com/users/kbartonhenry/foll...   \n",
       "4  https://api.github.com/users/kbartonhenry/foll...   \n",
       "\n",
       "                                    author.gists_url author.gravatar_id  \\\n",
       "0  https://api.github.com/users/kelsey-ironhack/g...                      \n",
       "1  https://api.github.com/users/kelsey-ironhack/g...                      \n",
       "2  https://api.github.com/users/kelsey-ironhack/g...                      \n",
       "3  https://api.github.com/users/kbartonhenry/gist...                      \n",
       "4  https://api.github.com/users/kbartonhenry/gist...                      \n",
       "\n",
       "                      author.html_url  author.id     author.login  \\\n",
       "0  https://github.com/kelsey-ironhack   52278191  kelsey-ironhack   \n",
       "1  https://github.com/kelsey-ironhack   52278191  kelsey-ironhack   \n",
       "2  https://github.com/kelsey-ironhack   52278191  kelsey-ironhack   \n",
       "3     https://github.com/kbartonhenry   22545329     kbartonhenry   \n",
       "4     https://github.com/kbartonhenry   22545329     kbartonhenry   \n",
       "\n",
       "         author.node_id                        ...                          \\\n",
       "0  MDQ6VXNlcjUyMjc4MTkx                        ...                           \n",
       "1  MDQ6VXNlcjUyMjc4MTkx                        ...                           \n",
       "2  MDQ6VXNlcjUyMjc4MTkx                        ...                           \n",
       "3  MDQ6VXNlcjIyNTQ1MzI5                        ...                           \n",
       "4  MDQ6VXNlcjIyNTQ1MzI5                        ...                           \n",
       "\n",
       "  committer.site_admin                              committer.starred_url  \\\n",
       "0                False  https://api.github.com/users/web-flow/starred{...   \n",
       "1                False  https://api.github.com/users/web-flow/starred{...   \n",
       "2                False  https://api.github.com/users/web-flow/starred{...   \n",
       "3                False  https://api.github.com/users/web-flow/starred{...   \n",
       "4                False  https://api.github.com/users/web-flow/starred{...   \n",
       "\n",
       "                         committer.subscriptions_url  committer.type  \\\n",
       "0  https://api.github.com/users/web-flow/subscrip...            User   \n",
       "1  https://api.github.com/users/web-flow/subscrip...            User   \n",
       "2  https://api.github.com/users/web-flow/subscrip...            User   \n",
       "3  https://api.github.com/users/web-flow/subscrip...            User   \n",
       "4  https://api.github.com/users/web-flow/subscrip...            User   \n",
       "\n",
       "                           committer.url  \\\n",
       "0  https://api.github.com/users/web-flow   \n",
       "1  https://api.github.com/users/web-flow   \n",
       "2  https://api.github.com/users/web-flow   \n",
       "3  https://api.github.com/users/web-flow   \n",
       "4  https://api.github.com/users/web-flow   \n",
       "\n",
       "                                            html_url  \\\n",
       "0  https://github.com/ironhack-datalabs/dataV2-la...   \n",
       "1  https://github.com/ironhack-datalabs/dataV2-la...   \n",
       "2  https://github.com/ironhack-datalabs/dataV2-la...   \n",
       "3  https://github.com/ironhack-datalabs/dataV2-la...   \n",
       "4  https://github.com/ironhack-datalabs/dataV2-la...   \n",
       "\n",
       "                                             node_id  \\\n",
       "0  MDY6Q29tbWl0MjEzNjQxMTcwOjMwNTBiYWFkNGJkZjRlZT...   \n",
       "1  MDY6Q29tbWl0MjEzNjQxMTcwOjY4MGE5Y2ExY2ViZDc3Mz...   \n",
       "2  MDY6Q29tbWl0MjEzNjQxMTcwOjE0MjFkMmI5N2IxZTI1MG...   \n",
       "3  MDY6Q29tbWl0MjEzNjQxMTcwOjAyM2EyN2Y0YzRiYjUxNW...   \n",
       "4  MDY6Q29tbWl0MjEzNjQxMTcwOjU3NDY2NmIyZmM4NmE3MW...   \n",
       "\n",
       "                                             parents  \\\n",
       "0  [{'sha': '680a9ca1cebd77383a8a104ab48c868d1600...   \n",
       "1  [{'sha': '1421d2b97b1e250bbd1c321e7c38a1ef87fd...   \n",
       "2  [{'sha': '023a27f4c4bb515a77bfda08f9309c1b1e33...   \n",
       "3  [{'sha': '574666b2fc86a71f60f334545fe4d16ab61a...   \n",
       "4  [{'sha': '6f83d1446dbb6bd600a2082e8147b79e420f...   \n",
       "\n",
       "                                        sha  \\\n",
       "0  3050baad4bdf4ee65be7b6d56ee4902abf59d5fb   \n",
       "1  680a9ca1cebd77383a8a104ab48c868d1600790f   \n",
       "2  1421d2b97b1e250bbd1c321e7c38a1ef87fd2c49   \n",
       "3  023a27f4c4bb515a77bfda08f9309c1b1e333e72   \n",
       "4  574666b2fc86a71f60f334545fe4d16ab61ab28f   \n",
       "\n",
       "                                                 url  \n",
       "0  https://api.github.com/repos/ironhack-datalabs...  \n",
       "1  https://api.github.com/repos/ironhack-datalabs...  \n",
       "2  https://api.github.com/repos/ironhack-datalabs...  \n",
       "3  https://api.github.com/repos/ironhack-datalabs...  \n",
       "4  https://api.github.com/repos/ironhack-datalabs...  \n",
       "\n",
       "[5 rows x 57 columns]"
      ]
     },
     "execution_count": 137,
     "metadata": {},
     "output_type": "execute_result"
    }
   ],
   "source": [
    "# your code here\n",
    "#DID NOT WORK WITH FOR LOOP\n",
    "#def get(n):\n",
    " #   alles=[]\n",
    "  #  for x in len(n):\n",
    "   #     response(n)=requests.get(\"https://api.github.com/repos/ironhack-datalabs/dataV2-labs/commits?page=\",(n),\"&per_page=100\", auth=(username,token))\n",
    "    #    results(n)=response.json()\n",
    "     #   flat(n)=json_normalize(results(n))\n",
    "      #  commit(n)=pd.DataFrame(flat(n))\n",
    "       # alles.append(commit(n))\n",
    "    #return alles\n",
    "# your code here\n",
    "#AFTER PAGE 2 THE SHAPE FUNCTION SHOWED ME 0 ROWS\n",
    "response1=requests.get(\"https://api.github.com/repos/ironhack-datalabs/dataV2-labs/commits?page=1&per_page=100\", auth=(username,token))\n",
    "response2=requests.get(\"https://api.github.com/repos/ironhack-datalabs/dataV2-labs/commits?page=2&per_page=100\", auth=(username,token))\n",
    "\n",
    "results1=response1.json()\n",
    "results2=response2.json()\n",
    "\n",
    "\n",
    "flat1=json_normalize(results1)\n",
    "flat2=json_normalize(results2)\n",
    "\n",
    "commit1=pd.DataFrame(flat1)\n",
    "commit2=pd.DataFrame(flat2)\n",
    "\n",
    "\n"
   ]
  },
  {
   "cell_type": "markdown",
   "metadata": {},
   "source": [
    "#### 2. Count how many commit objects are contained in the array."
   ]
  },
  {
   "cell_type": "code",
   "execution_count": 157,
   "metadata": {},
   "outputs": [
    {
     "name": "stdout",
     "output_type": "stream",
     "text": [
      "There are 142 commits in october\n"
     ]
    }
   ],
   "source": [
    "commit1.head()\n",
    "commit2.head()\n",
    "commit2.shape\n",
    "#Together.shape should be 148,57\n",
    "together=commit1.append(commit2, ignore_index=True)\n",
    "together.head()\n",
    "together.columns #Find date\n",
    "date=together[\"commit.author.date\"]\n",
    "#print(date)\n",
    "#Only line 0-5 are not in oct 19\n",
    "print(\"There are\",len(date)-6,\"commits in october\")\n",
    "\n"
   ]
  },
  {
   "cell_type": "markdown",
   "metadata": {},
   "source": [
    "## Challenge 3: Hidden Cold Joke\n",
    "\n",
    "Using Python, call Github API to find out the cold joke contained in the 24 secret files in the following repo:\n",
    "\n",
    "https://github.com/ironhack-datalabs/scavenger\n",
    "\n",
    "The filenames of the secret files contain .scavengerhunt and they are scattered in different directories of this repo. The secret files are named from .0001.scavengerhunt to .0024.scavengerhunt. They are scattered randomly throughout this repo. You need to search for these files by calling the Github API, not searching the local files on your computer.\n",
    "\n",
    "#### 1. Find the secret files."
   ]
  },
  {
   "cell_type": "code",
   "execution_count": 115,
   "metadata": {},
   "outputs": [],
   "source": [
    "# your code here\n",
    "response3=requests.get(\"https://api.github.com/repos/ironhack-datalabs/scavenger/contents\")\n",
    "results3=response3.json()"
   ]
  },
  {
   "cell_type": "markdown",
   "metadata": {},
   "source": [
    "#### 2.  Sort the filenames ascendingly."
   ]
  },
  {
   "cell_type": "code",
   "execution_count": 122,
   "metadata": {},
   "outputs": [
    {
     "data": {
      "text/plain": [
       "0     .gitignore\n",
       "1          15024\n",
       "2          15534\n",
       "3          17020\n",
       "4          30351\n",
       "5          40303\n",
       "6          44639\n",
       "7          45525\n",
       "8          47222\n",
       "9          47830\n",
       "10         49418\n",
       "11         50896\n",
       "12         55417\n",
       "13         55685\n",
       "14         60224\n",
       "15         64880\n",
       "16         66032\n",
       "17         68848\n",
       "18         70751\n",
       "19         70985\n",
       "20         88596\n",
       "21         89046\n",
       "22         89338\n",
       "23         91701\n",
       "24         97881\n",
       "25         98750\n",
       "Name: name, dtype: object"
      ]
     },
     "execution_count": 122,
     "metadata": {},
     "output_type": "execute_result"
    }
   ],
   "source": [
    "# your code here\n",
    "first=pd.DataFrame(results3)\n",
    "first.name\n",
    "#Shows the name of the folders in which the secret files are\n",
    "\n",
    "\n",
    "\n"
   ]
  },
  {
   "cell_type": "markdown",
   "metadata": {},
   "source": [
    "#### 3. Read the content of each secret files into an array of strings.\n",
    "Since the response is encoded, you will need to send the following information in the header of your request:\n",
    "````python\n",
    "headers = {'Accept': 'application/vnd.github.v3.raw'}\n",
    "````"
   ]
  },
  {
   "cell_type": "code",
   "execution_count": null,
   "metadata": {},
   "outputs": [],
   "source": [
    "# your code here"
   ]
  },
  {
   "cell_type": "markdown",
   "metadata": {},
   "source": [
    "#### 4. Concatenate the strings in the array separating each two with a whitespace."
   ]
  },
  {
   "cell_type": "code",
   "execution_count": 136,
   "metadata": {},
   "outputs": [
    {
     "data": {
      "text/plain": [
       "(48, 57)"
      ]
     },
     "execution_count": 136,
     "metadata": {},
     "output_type": "execute_result"
    }
   ],
   "source": [
    "# your code here\n"
   ]
  },
  {
   "cell_type": "markdown",
   "metadata": {},
   "source": [
    "#### 5. Print out the joke."
   ]
  },
  {
   "cell_type": "code",
   "execution_count": null,
   "metadata": {},
   "outputs": [],
   "source": []
  }
 ],
 "metadata": {
  "kernelspec": {
   "display_name": "Python 3",
   "language": "python",
   "name": "python3"
  },
  "language_info": {
   "codemirror_mode": {
    "name": "ipython",
    "version": 3
   },
   "file_extension": ".py",
   "mimetype": "text/x-python",
   "name": "python",
   "nbconvert_exporter": "python",
   "pygments_lexer": "ipython3",
   "version": "3.7.0"
  }
 },
 "nbformat": 4,
 "nbformat_minor": 2
}
